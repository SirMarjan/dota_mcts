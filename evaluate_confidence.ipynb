{
 "cells": [
  {
   "cell_type": "code",
   "execution_count": 1,
   "metadata": {},
   "outputs": [],
   "source": [
    "from models.api_models import *\n",
    "from tqdm import tqdm\n",
    "import time\n",
    "import joblib\n",
    "from models.feature_extractor import FeatureExtractor\n",
    "from models.win_rate_models import WinRateSciKitModel, WinRateSciKitModelConfidence\n",
    "from models.mcts_draft import AllPickDraft, CaptainsModeDraft, getOrderedMoves\n",
    "from mcts import mcts\n",
    "from copy import deepcopy\n",
    "import seaborn as sns\n",
    "import matplotlib.pyplot as plt\n",
    "import math\n",
    "import numpy as np"
   ]
  },
  {
   "cell_type": "code",
   "execution_count": 2,
   "metadata": {},
   "outputs": [],
   "source": [
    "EVALUATE_PICKE_PATH = 'input/pro_pb.joblib' "
   ]
  },
  {
   "cell_type": "code",
   "execution_count": 3,
   "metadata": {},
   "outputs": [],
   "source": [
    "feature_extractor = joblib.load('input/feature_extractor.joblib')\n",
    "linear_svc = joblib.load('input/linear_svc.joblib')\n",
    "win_rate_model = WinRateSciKitModelConfidence(feature_extractor, linear_svc)"
   ]
  },
  {
   "cell_type": "code",
   "execution_count": 4,
   "metadata": {},
   "outputs": [],
   "source": [
    "picks_bans_list = joblib.load(EVALUATE_PICKE_PATH)"
   ]
  },
  {
   "cell_type": "code",
   "execution_count": 18,
   "metadata": {},
   "outputs": [],
   "source": [
    "def to_initial_state(pb_list, wr_model, n_first=3):\n",
    "    bans = []\n",
    "    radiant_picks = []\n",
    "    dire_picks = []\n",
    "    pb_list, radiant_win = pb_list\n",
    "    for pb in pb_list:\n",
    "        if not pb.is_pick:\n",
    "            bans.append(pb.hero_id)\n",
    "        else:\n",
    "            if pb.team == 1:\n",
    "                radiant_picks.append(pb.hero_id)\n",
    "            else:\n",
    "                dire_picks.append(pb.hero_id)\n",
    "    state = AllPickDraft(wr_model, bans=bans, radiant_picks=set(radiant_picks[:n_first]), dire_picks=set(dire_picks[:n_first]))\n",
    "    return state, radiant_picks[n_first:], dire_picks[n_first:], radiant_win"
   ]
  },
  {
   "cell_type": "code",
   "execution_count": 19,
   "metadata": {},
   "outputs": [],
   "source": [
    "pick_bans_states = [to_initial_state(picks_bans, win_rate_model) for picks_bans in picks_bans_list]"
   ]
  },
  {
   "cell_type": "code",
   "execution_count": 21,
   "metadata": {},
   "outputs": [
    {
     "name": "stderr",
     "output_type": "stream",
     "text": [
      "100%|███████████████████████████████████████████████████████████████████████████████████████████████████████████████████████████████████████████████████████████████| 99/99 [16:30<00:00, 10.00s/it]\n"
     ]
    }
   ],
   "source": [
    "results = []\n",
    "for state, rlp, dlp, radiant_win in tqdm(pick_bans_states):\n",
    "\n",
    "    if radiant_win:\n",
    "        # radiant\n",
    "        state_r = deepcopy(state)\n",
    "        state_r.is_radiant_player = True\n",
    "        mcts_object = mcts(timeLimit=10_000, explorationConstant=1/math.sqrt(2))\n",
    "        mcts_object.search(state_r)\n",
    "        top_n = getOrderedMoves(mcts_object, 130)\n",
    "        results.append((top_n, rlp))\n",
    "    else:\n",
    "        # dire\n",
    "        state_d = deepcopy(state)\n",
    "        state_d.is_radiant_player = False\n",
    "        mcts_object = mcts(timeLimit=10_000, explorationConstant=1/math.sqrt(2))\n",
    "        mcts_object.search(state_d)\n",
    "        top_n = getOrderedMoves(mcts_object, 130)\n",
    "        results.append((top_n, dlp))"
   ]
  },
  {
   "cell_type": "code",
   "execution_count": 24,
   "metadata": {},
   "outputs": [],
   "source": [
    "ranks = []\n",
    "for propose, query in results:\n",
    "    ranks.append(propose.index(query[0])+1)\n",
    "    ranks.append(propose.index(query[1])+1)"
   ]
  },
  {
   "cell_type": "code",
   "execution_count": 25,
   "metadata": {},
   "outputs": [
    {
     "data": {
      "text/plain": [
       "Text(0, 0.5, 'Ilość')"
      ]
     },
     "execution_count": 25,
     "metadata": {},
     "output_type": "execute_result"
    },
    {
     "data": {
      "image/png": "[encoded data removed]",
      "text/plain": [
       "<Figure size 432x288 with 1 Axes>"
      ]
     },
     "metadata": {
      "needs_background": "light"
     },
     "output_type": "display_data"
    }
   ],
   "source": [
    "sns.distplot(ranks, bins=60, kde=False)\n",
    "plt.xlabel('Rank')\n",
    "plt.ylabel('Ilość')"
   ]
  },
  {
   "cell_type": "code",
   "execution_count": 10,
   "metadata": {},
   "outputs": [],
   "source": [
    "pick_bans_states = [to_initial_state(picks_bans, win_rate_model, 4) for picks_bans in picks_bans_list]"
   ]
  },
  {
   "cell_type": "code",
   "execution_count": 11,
   "metadata": {},
   "outputs": [
    {
     "name": "stderr",
     "output_type": "stream",
     "text": [
      "100%|███████████████████████████████████████████████████████████████████████████████████████████████████████████████████████████████████████████████████████████████| 99/99 [03:18<00:00,  2.00s/it]\n"
     ]
    }
   ],
   "source": [
    "results = []\n",
    "for state, rlp, dlp, radiant_win in tqdm(pick_bans_states):\n",
    "\n",
    "    if radiant_win:\n",
    "        # radiant\n",
    "        state_r = deepcopy(state)\n",
    "        state_r.is_radiant_player = True\n",
    "        mcts_object = mcts(timeLimit=2_000, explorationConstant=1/math.sqrt(2))\n",
    "        mcts_object.search(state_r)\n",
    "        top_n = getOrderedMoves(mcts_object, 130)\n",
    "        results.append((top_n, rlp))\n",
    "    else:\n",
    "        # dire\n",
    "        state_d = deepcopy(state)\n",
    "        state_d.is_radiant_player = False\n",
    "        mcts_object = mcts(timeLimit=2_000, explorationConstant=1/math.sqrt(2))\n",
    "        mcts_object.search(state_d)\n",
    "        top_n = getOrderedMoves(mcts_object, 130)\n",
    "        results.append((top_n, dlp))"
   ]
  },
  {
   "cell_type": "code",
   "execution_count": 12,
   "metadata": {},
   "outputs": [],
   "source": [
    "ranks = []\n",
    "for propose, query in results:\n",
    "    ranks.append(propose.index(query[0])+1)"
   ]
  },
  {
   "cell_type": "code",
   "execution_count": 13,
   "metadata": {},
   "outputs": [
    {
     "data": {
      "text/plain": [
       "Text(0, 0.5, 'Ilość')"
      ]
     },
     "execution_count": 13,
     "metadata": {},
     "output_type": "execute_result"
    },
    {
     "data": {
      "image/png": "[encoded data removed]",
      "text/plain": [
       "<Figure size 432x288 with 1 Axes>"
      ]
     },
     "metadata": {
      "needs_background": "light"
     },
     "output_type": "display_data"
    }
   ],
   "source": [
    "sns.distplot(ranks, bins=61, kde=False)\n",
    "plt.xlabel('Rank')\n",
    "plt.ylabel('Ilość')"
   ]
  },
  {
   "cell_type": "code",
   "execution_count": null,
   "metadata": {},
   "outputs": [],
   "source": []
  },
  {
   "cell_type": "code",
   "execution_count": null,
   "metadata": {},
   "outputs": [],
   "source": []
  },
  {
   "cell_type": "code",
   "execution_count": null,
   "metadata": {},
   "outputs": [],
   "source": []
  }
 ],
 "metadata": {
  "kernelspec": {
   "display_name": "Python 3",
   "language": "python",
   "name": "python3"
  },
  "language_info": {
   "codemirror_mode": {
    "name": "ipython",
    "version": 3
   },
   "file_extension": ".py",
   "mimetype": "text/x-python",
   "name": "python",
   "nbconvert_exporter": "python",
   "pygments_lexer": "ipython3",
   "version": "3.7.7"
  }
 },
 "nbformat": 4,
 "nbformat_minor": 4
}
