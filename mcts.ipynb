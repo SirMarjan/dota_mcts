{
 "cells": [
  {
   "cell_type": "code",
   "execution_count": null,
   "metadata": {
    "ExecuteTime": {
     "end_time": "2020-05-18T19:40:53.338010Z",
     "start_time": "2020-05-18T19:40:52.335080Z"
    }
   },
   "outputs": [],
   "source": [
    "from models import api_models\n",
    "import numpy as np\n",
    "import pandas as pd\n",
    "import pickle\n",
    "import gc\n",
    "from sklearn.neural_network import MLPClassifier\n",
    "from tensorflow import keras\n",
    "from sklearn.metrics import accuracy_score\n",
    "from sklearn.metrics import confusion_matrix\n",
    "from sklearn.model_selection import train_test_split\n",
    "from captain_mode_draft import Draft"
   ]
  },
  {
   "cell_type": "markdown",
   "metadata": {},
   "source": [
    "# prepare data"
   ]
  },
  {
   "cell_type": "code",
   "execution_count": null,
   "metadata": {},
   "outputs": [],
   "source": [
    "data = api_models.load_from_msgpack(\"input/scrap_merge.msgpack.gz\")\n",
    "data_x = []\n",
    "data_y = []\n",
    "for data_item in data:\n",
    "    input_vector = np.zeros(130)\n",
    "    for player in data_item.players:\n",
    "        if player.team == 1:\n",
    "            input_vector[player.hero_id]=1\n",
    "        else:\n",
    "            input_vector[player.hero_id]=-1\n",
    "    if data_item.radiant_win == True:\n",
    "          y = 1\n",
    "    else:\n",
    "          y=-1\n",
    "    data_x.append(input_vector)\n",
    "    data_y.append(y)\n",
    "\n",
    "arr = []\n",
    "for y in data_y:\n",
    "    if y == 1:\n",
    "        arr.append([1, 0])\n",
    "    else:\n",
    "        arr.append([0, 1])\n",
    "\n",
    "del data\n",
    "data_y = arr\n",
    "pickle.dump( data_y, open( \"input/data_y.pkl\", \"wb\" ) )\n",
    "pickle.dump( data_x, open( \"input/data_x.pkl\", \"wb\" ) )"
   ]
  },
  {
   "cell_type": "markdown",
   "metadata": {},
   "source": [
    "# load data"
   ]
  },
  {
   "cell_type": "code",
   "execution_count": null,
   "metadata": {},
   "outputs": [],
   "source": [
    "#data_y = pickle.load( open( \"input/data_y.pkl\", \"rb\" ) )\n",
    "#data_x = pickle.load( open( \"input/data_x.pkl\", \"rb\" ) )\n",
    "#x_train, x_test, y_train, y_test = train_test_split(data_x, data_y, random_state=1)"
   ]
  },
  {
   "cell_type": "markdown",
   "metadata": {},
   "source": [
    "# model train"
   ]
  },
  {
   "cell_type": "code",
   "execution_count": null,
   "metadata": {
    "ExecuteTime": {
     "end_time": "2020-05-18T19:59:36.235701Z",
     "start_time": "2020-05-18T19:45:39.492513Z"
    }
   },
   "outputs": [],
   "source": [
    "model = keras.models.Sequential()\n",
    "model.add(keras.layers.Dense(130, input_shape=(130,), activation='relu'))\n",
    "model.add(keras.layers.Dense(50, activation='relu'))\n",
    "model.add(keras.layers.Dense(2, activation='softmax'))\n",
    "model.compile(optimizer='adam', loss='binary_crossentropy', metrics=['accuracy'])"
   ]
  },
  {
   "cell_type": "code",
   "execution_count": null,
   "metadata": {},
   "outputs": [],
   "source": [
    "history = model.fit(np.array(x_train), np.array(y_train), epochs=50, batch_size = 64, verbose=1)\n",
    "\n",
    "y_pred = model.predict(np.array(x_test))\n",
    "tmp_y_pred = []\n",
    "for y in y_pred:\n",
    "    if y[0] > y[1]:\n",
    "        tmp_y_pred.append([1, 0])\n",
    "    else:\n",
    "        tmp_y_pred.append([0, 1])\n",
    "accuracy_score(y_test, tmp_y_pred)"
   ]
  },
  {
   "cell_type": "code",
   "execution_count": null,
   "metadata": {
    "ExecuteTime": {
     "end_time": "2020-05-18T20:00:27.003857Z",
     "start_time": "2020-05-18T20:00:26.061654Z"
    }
   },
   "outputs": [],
   "source": [
    "model.save(\"models_win_rate/130_50_relu\")"
   ]
  },
  {
   "cell_type": "markdown",
   "metadata": {},
   "source": [
    "# simulation"
   ]
  },
  {
   "cell_type": "code",
   "execution_count": 1,
   "metadata": {},
   "outputs": [],
   "source": [
    "import sys\n",
    "\n",
    "import random\n",
    "import numpy as np\n",
    "import time\n",
    "from utils.parser import parse_mcts_exp_parameters\n",
    "from captain_mode_draft import Draft\n",
    "from tensorflow import keras\n",
    "import logging\n",
    "from models_win_rate.model_win_rate import ModelWinRateKeras130\n",
    "\n",
    "def experiment(match_id, p0_model_str, p1_model_str, model_win_rate):\n",
    "    t1 = time.time()\n",
    "    d = Draft(model_win_rate = model_win_rate, p0_model_str=p0_model_str, p1_model_str=p1_model_str)  # instantiate board\n",
    "\n",
    "    while not d.end():\n",
    "        p = d.get_player()\n",
    "        t2 = time.time()\n",
    "        \n",
    "        mt = d.decide_move_type() # whether it is ban or pick\n",
    "        a = p.get_best_move(mt)\n",
    "        d.move(a)\n",
    "        d.print_move(match_id=match_id, move_duration=time.time() - t2, move_id=a, move_type=mt)\n",
    "    \n",
    "    final_red_team_win_rate = d.eval()\n",
    "    duration = time.time() - t1\n",
    "    exp_str = 'match: {}, time: {:.3F}, red team predicted win rate: {:.5f}' \\\n",
    "        .format(match_id, duration, final_red_team_win_rate)\n",
    "    \n",
    "    return final_red_team_win_rate, duration, exp_str"
   ]
  },
  {
   "cell_type": "code",
   "execution_count": 2,
   "metadata": {},
   "outputs": [
    {
     "name": "stderr",
     "output_type": "stream",
     "text": [
      "match 0 player 0 (random         ), ban :  44, move_cnt: 1, duration: 0.000\n",
      "match 0 player 1 (mcts_50_0.5    ), ban :  82, move_cnt: 1, duration: 2.523\n",
      "match 0 player 0 (random         ), ban :   8, move_cnt: 2, duration: 0.000\n",
      "match 0 player 1 (mcts_50_0.5    ), ban :  42, move_cnt: 2, duration: 2.392\n",
      "match 0 player 0 (random         ), ban :  47, move_cnt: 3, duration: 0.000\n",
      "match 0 player 1 (mcts_50_0.5    ), ban :  81, move_cnt: 3, duration: 2.463\n",
      "match 0 player 0 (random         ), pick:  70, move_cnt: 4, duration: 0.000\n",
      "match 0 player 1 (mcts_50_0.5    ), pick:  97, move_cnt: 4, duration: 2.371\n",
      "match 0 player 1 (mcts_50_0.5    ), pick: 121, move_cnt: 5, duration: 2.452\n",
      "match 0 player 0 (random         ), pick:  24, move_cnt: 5, duration: 0.000\n",
      "match 0 player 1 (mcts_50_0.5    ), ban : 107, move_cnt: 6, duration: 2.617\n",
      "match 0 player 0 (random         ), ban :  59, move_cnt: 6, duration: 0.000\n",
      "match 0 player 1 (mcts_50_0.5    ), ban : 116, move_cnt: 7, duration: 2.434\n",
      "match 0 player 0 (random         ), ban :  23, move_cnt: 7, duration: 0.000\n",
      "match 0 player 1 (mcts_50_0.5    ), pick:  58, move_cnt: 8, duration: 2.553\n",
      "match 0 player 0 (random         ), pick:   7, move_cnt: 8, duration: 0.000\n",
      "match 0 player 1 (mcts_50_0.5    ), pick:   0, move_cnt: 9, duration: 2.336\n",
      "match 0 player 0 (random         ), pick:  29, move_cnt: 9, duration: 0.000\n",
      "match 0 player 1 (mcts_50_0.5    ), ban :  54, move_cnt: 10, duration: 2.449\n",
      "match 0 player 0 (random         ), ban :  20, move_cnt: 10, duration: 0.000\n",
      "match 0 player 0 (random         ), pick:  62, move_cnt: 11, duration: 0.000\n",
      "match 0 player 1 (mcts_50_0.5    ), pick: 104, move_cnt: 11, duration: 2.399\n",
      "match: 0, time: 27.047, red team predicted win rate: 0.02392, mean predicted win rate: 0.02392\n",
      "\n",
      "1 matches, random vs. mcts_50_0.5. average time 27.04729, average red team win rate 0.02392, std 0.00000\n"
     ]
    }
   ],
   "source": [
    "logger = logging.getLogger('mcts')\n",
    "logger.addHandler(logging.StreamHandler())\n",
    "logger.setLevel(logging.WARNING)\n",
    "num_matches = 1\n",
    "p0_model_str = 'random'      \n",
    "p1_model_str = 'mcts_50_0.5'            # format: mcts_maxiterations_c\n",
    "\n",
    "model_win_rate = ModelWinRateKeras130() # win rate model. input size (130)\n",
    "model_win_rate.load('models_win_rate/130_50_relu')\n",
    "\n",
    "red_team_win_rates, times = [], []\n",
    "for i in range(num_matches):\n",
    "    wr, t, s = experiment(i, p0_model_str, p1_model_str, model_win_rate)\n",
    "    red_team_win_rates.append(wr)\n",
    "    times.append(t)\n",
    "    s += ', mean predicted win rate: {:.5f}\\n'.format(np.average(red_team_win_rates))\n",
    "    logger.warning(s)\n",
    "\n",
    "logger.warning('{} matches, {} vs. {}. average time {:.5f}, average red team win rate {:.5f}, std {:.5f}'\n",
    "               .format(num_matches, p0_model_str, p1_model_str,\n",
    "                       np.average(times), np.average(red_team_win_rates), np.std(red_team_win_rates)))\n"
   ]
  },
  {
   "cell_type": "code",
   "execution_count": null,
   "metadata": {},
   "outputs": [],
   "source": []
  },
  {
   "cell_type": "markdown",
   "metadata": {},
   "source": [
    "# demo recommendation\n",
    "    "
   ]
  },
  {
   "cell_type": "code",
   "execution_count": 4,
   "metadata": {},
   "outputs": [],
   "source": [
    "from pick_recomendation import PicksRecommendation\n",
    "from models_win_rate.model_win_rate import ModelWinRateKeras130\n",
    "\n",
    "model_win_rate = ModelWinRateKeras130()\n",
    "model_win_rate.load('models_win_rate/130_50_relu')\n",
    "p0_model_str = 'mcts_10_0.5'   # rekomendacja dla \"gracza\"(druzyny) 1, maxiter in mcts= 10, c = 0.5\n",
    "p1_model_str = 'mcts_10_0.5'  # rekomendacja dla \"gracza\" 2\n",
    "recomm = PicksRecommendation(model_win_rate=model_win_rate, \n",
    "                             p0_model_str=p0_model_str,\n",
    "                             p1_model_str=p1_model_str)\n"
   ]
  },
  {
   "cell_type": "code",
   "execution_count": null,
   "metadata": {},
   "outputs": [
    {
     "name": "stdout",
     "output_type": "stream",
     "text": [
      "Stan planszy: \n",
      "G1 pick:  []\n",
      "G1 bans:  []\n",
      "G2 pick:  []\n",
      "G2 bans:  []\n",
      "Nastepny ruch G 1   ban\n",
      "5 0.5120272040367126\n",
      "87 0.48463568091392517\n",
      "125 0.48238977789878845\n",
      "119 0.3390335738658905\n",
      "55 0.3183991312980652\n",
      "Wpisz id bohatera: 5\n",
      "\n",
      "Stan planszy: \n",
      "G1 pick:  []\n",
      "G1 bans:  [5]\n",
      "G2 pick:  []\n",
      "G2 bans:  []\n",
      "Nastepny ruch G 2   ban\n",
      "62 0.9364078640937805\n",
      "125 0.7670018970966339\n",
      "114 0.7343661785125732\n",
      "23 0.5555130541324615\n",
      "60 0.550444483757019\n",
      "Wpisz id bohatera: 11\n",
      "\n",
      "Stan planszy: \n",
      "G1 pick:  []\n",
      "G1 bans:  [5]\n",
      "G2 pick:  []\n",
      "G2 bans:  [11]\n",
      "Nastepny ruch G 1   ban\n",
      "55 0.816818356513977\n",
      "86 0.6636686325073242\n",
      "32 0.5899741053581238\n",
      "103 0.5769644379615784\n",
      "39 0.5483741760253906\n",
      "Wpisz id bohatera: 55\n",
      "\n",
      "Stan planszy: \n",
      "G1 pick:  []\n",
      "G1 bans:  [5, 55]\n",
      "G2 pick:  []\n",
      "G2 bans:  [11]\n",
      "Nastepny ruch G 2   ban\n",
      "76 0.7839206606149673\n",
      "87 0.6521320641040802\n",
      "121 0.5629115998744965\n",
      "35 0.562593400478363\n",
      "49 0.5443386435508728\n",
      "Wpisz id bohatera: 76\n",
      "\n",
      "Stan planszy: \n",
      "G1 pick:  []\n",
      "G1 bans:  [5, 55]\n",
      "G2 pick:  []\n",
      "G2 bans:  [11, 76]\n",
      "Nastepny ruch G 1   ban\n",
      "42 0.7758029103279114\n",
      "104 0.6489754915237427\n",
      "41 0.6105172038078308\n",
      "121 0.5902257561683655\n",
      "68 0.4681583344936371\n",
      "Wpisz id bohatera: 42\n",
      "\n",
      "Stan planszy: \n",
      "G1 pick:  []\n",
      "G1 bans:  [5, 55, 42]\n",
      "G2 pick:  []\n",
      "G2 bans:  [11, 76]\n",
      "Nastepny ruch G 2   ban\n",
      "35 0.9196080937981606\n",
      "79 0.7914502620697021\n",
      "84 0.6303636729717255\n",
      "124 0.5515080392360687\n",
      "123 0.5318416655063629\n",
      "Wpisz id bohatera: 35\n",
      "\n",
      "Stan planszy: \n",
      "G1 pick:  []\n",
      "G1 bans:  [5, 55, 42]\n",
      "G2 pick:  []\n",
      "G2 bans:  [11, 76, 35]\n",
      "Nastepny ruch G 1   pick\n",
      "77 0.9927003979682922\n",
      "19 0.6770493984222412\n",
      "22 0.537713885307312\n",
      "52 0.5315947532653809\n",
      "129 0.44410577416419983\n",
      "Wpisz id bohatera: 77\n",
      "\n",
      "Stan planszy: \n",
      "G1 pick:  [77]\n",
      "G1 bans:  [5, 55, 42]\n",
      "G2 pick:  []\n",
      "G2 bans:  [11, 76, 35]\n",
      "Nastepny ruch G 2   pick\n",
      "79 0.7632331997156143\n",
      "126 0.757918044924736\n",
      "45 0.6943790912628174\n",
      "17 0.673233151435852\n",
      "93 0.5648818910121918\n",
      "Wpisz id bohatera: 79\n",
      "\n",
      "Stan planszy: \n",
      "G1 pick:  [77]\n",
      "G1 bans:  [5, 55, 42]\n",
      "G2 pick:  [79]\n",
      "G2 bans:  [11, 76, 35]\n",
      "Nastepny ruch G 2   pick\n",
      "112 0.903374694287777\n",
      "72 0.8643283098936081\n",
      "27 0.8199290484189987\n",
      "50 0.6097006797790527\n",
      "3 0.5622977018356323\n",
      "Wpisz id bohatera: 112\n",
      "\n",
      "Stan planszy: \n",
      "G1 pick:  [77]\n",
      "G1 bans:  [5, 55, 42]\n",
      "G2 pick:  [79, 112]\n",
      "G2 bans:  [11, 76, 35]\n",
      "Nastepny ruch G 1   pick\n",
      "0 0.486057311296463\n",
      "45 0.4681583344936371\n",
      "26 0.4510217308998108\n",
      "106 0.45053401589393616\n",
      "13 0.4444023072719574\n",
      "Wpisz id bohatera: 0\n",
      "\n",
      "Stan planszy: \n",
      "G1 pick:  [77, 0]\n",
      "G1 bans:  [5, 55, 42]\n",
      "G2 pick:  [79, 112]\n",
      "G2 bans:  [11, 76, 35]\n",
      "Nastepny ruch G 2   ban\n",
      "101 0.962079681456089\n",
      "87 0.8179247081279755\n",
      "97 0.7326966226100922\n",
      "44 0.6388688683509827\n",
      "74 0.5318416655063629\n",
      "Wpisz id bohatera: 101\n",
      "\n",
      "Stan planszy: \n",
      "G1 pick:  [77, 0]\n",
      "G1 bans:  [5, 55, 42]\n",
      "G2 pick:  [79, 112]\n",
      "G2 bans:  [11, 76, 35, 101]\n",
      "Nastepny ruch G 1   ban\n",
      "33 0.6315257549285889\n",
      "124 0.5658266544342041\n",
      "83 0.5571444034576416\n",
      "122 0.4714009761810303\n",
      "41 0.4681583344936371\n",
      "Wpisz id bohatera: 33\n",
      "\n",
      "Stan planszy: \n",
      "G1 pick:  [77, 0]\n",
      "G1 bans:  [5, 55, 42, 33]\n",
      "G2 pick:  [79, 112]\n",
      "G2 bans:  [11, 76, 35, 101]\n",
      "Nastepny ruch G 2   ban\n",
      "110 0.7735883593559265\n",
      "63 0.7367319166660309\n",
      "50 0.6458930969238281\n",
      "60 0.6040608584880829\n",
      "82 0.524267703294754\n",
      "Wpisz id bohatera: 110\n",
      "\n",
      "Stan planszy: \n",
      "G1 pick:  [77, 0]\n",
      "G1 bans:  [5, 55, 42, 33]\n",
      "G2 pick:  [79, 112]\n",
      "G2 bans:  [11, 76, 35, 101, 110]\n",
      "Nastepny ruch G 1   ban\n",
      "73 0.5937145352363586\n",
      "1 0.5779165625572205\n",
      "9 0.5560280680656433\n",
      "103 0.4681583344936371\n",
      "49 0.4417738914489746\n"
     ]
    }
   ],
   "source": [
    "state_picks = [[],[]]\n",
    "state_bans  = [[],[]]\n",
    "for i in range(25):\n",
    "    print(\"Stan planszy: \")\n",
    "    print(\"G1 pick: \", state_picks[0]) #+[-1]*(5-len(state_picks[0])))\n",
    "    print(\"G1 bans: \", state_bans[0])  #+[-1]*(6-len(state_bans[0])))\n",
    "    print(\"G2 pick: \", state_picks[1]) #+[-1]*(5-len(state_picks[1])))\n",
    "    print(\"G2 bans: \", state_bans[1])  #+[-1]*(6-len(state_bans[1])))\n",
    "    \n",
    "    type_move, id_player, moves = recomm.recommend_pick(state_picks, state_bans, k=5)\n",
    "    #print(type_move, id_player, moves)\n",
    "    print(\"Nastepny ruch G\",id_player+1, \" \", type_move)\n",
    "    for x in moves:\n",
    "        print(x[0], x[1])\n",
    "    x=int(input(\"Wpisz id bohatera: \"))\n",
    "    \n",
    "    if type_move == 'ban':\n",
    "        state_bans[id_player].append(x)\n",
    "    else:\n",
    "        state_picks[id_player].append(x)\n",
    "    print(\"\")\n",
    "    #print(state_picks, state_bans)\n",
    "    "
   ]
  },
  {
   "cell_type": "code",
   "execution_count": null,
   "metadata": {},
   "outputs": [],
   "source": []
  }
 ],
 "metadata": {
  "kernelspec": {
   "display_name": "Python 3",
   "language": "python",
   "name": "python3"
  },
  "language_info": {
   "codemirror_mode": {
    "name": "ipython",
    "version": 3
   },
   "file_extension": ".py",
   "mimetype": "text/x-python",
   "name": "python",
   "nbconvert_exporter": "python",
   "pygments_lexer": "ipython3",
   "version": "3.7.6"
  },
  "varInspector": {
   "cols": {
    "lenName": 16,
    "lenType": 16,
    "lenVar": 40
   },
   "kernels_config": {
    "python": {
     "delete_cmd_postfix": "",
     "delete_cmd_prefix": "del ",
     "library": "var_list.py",
     "varRefreshCmd": "print(var_dic_list())"
    },
    "r": {
     "delete_cmd_postfix": ") ",
     "delete_cmd_prefix": "rm(",
     "library": "var_list.r",
     "varRefreshCmd": "cat(var_dic_list()) "
    }
   },
   "types_to_exclude": [
    "module",
    "function",
    "builtin_function_or_method",
    "instance",
    "_Feature"
   ],
   "window_display": false
  }
 },
 "nbformat": 4,
 "nbformat_minor": 2
}
