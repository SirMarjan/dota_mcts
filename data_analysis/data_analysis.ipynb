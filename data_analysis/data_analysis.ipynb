{
  "nbformat": 4,
  "nbformat_minor": 0,
  "metadata": {
    "colab": {
      "name": "personalizacja_nowe_dane.ipynb",
      "provenance": [],
      "collapsed_sections": [],
      "toc_visible": true,
      "machine_shape": "hm"
    },
    "kernelspec": {
      "name": "python3",
      "display_name": "Python 3"
    }
  },
  "cells": [
    {
      "cell_type": "code",
      "metadata": {
        "id": "VThU_bMnBuEh",
        "colab_type": "code",
        "colab": {}
      },
      "source": [
        "from pathlib import Path\n",
        "from joblib import load, dump\n",
        "import matplotlib.pyplot as plt\n",
        "import json\n",
        "import numpy as np\n",
        "import pandas as pd\n",
        "from collections import Counter"
      ],
      "execution_count": 0,
      "outputs": []
    },
    {
      "cell_type": "code",
      "metadata": {
        "id": "v9AkHBZ6ybuH",
        "colab_type": "code",
        "colab": {}
      },
      "source": [
        "from dataclasses import dataclass, asdict\n",
        "from typing import Any, List\n",
        "import joblib\n",
        "import pathlib\n",
        "import msgpack\n",
        "import gzip\n",
        "\n",
        "\n",
        "@dataclass\n",
        "class Player:\n",
        "    __slots__ = ['account_id',\n",
        "                 'team',\n",
        "                 'assists',\n",
        "                 'deaths',\n",
        "                 'gold_per_min',\n",
        "                 'hero_id',\n",
        "                 'kills',\n",
        "                 'level',\n",
        "                 'xp_per_min']\n",
        "\n",
        "    account_id: Any\n",
        "    team: Any\n",
        "    assists: Any\n",
        "    deaths: Any\n",
        "    gold_per_min: Any\n",
        "    hero_id: Any\n",
        "    kills: Any\n",
        "    level: Any\n",
        "    xp_per_min: Any\n",
        "\n",
        "\n",
        "@dataclass\n",
        "class PickBan:\n",
        "    __slots__ = ['hero_id',\n",
        "                 'is_pick',\n",
        "                 'order',\n",
        "                 'team']\n",
        "\n",
        "    hero_id: Any\n",
        "    is_pick: Any\n",
        "    order: Any\n",
        "    team: Any\n",
        "\n",
        "\n",
        "@dataclass\n",
        "class Game:\n",
        "    __slots__ = ['cluster',\n",
        "                 'dire_score',\n",
        "                 'duration',\n",
        "                 'first_blood_time',\n",
        "                 'game_mode',\n",
        "                 'human_players',\n",
        "                 'lobby_type',\n",
        "                 'match_id',\n",
        "                 'match_seq_num',\n",
        "                 'negative_votes',\n",
        "                 'picks_bans',\n",
        "                 'players',\n",
        "                 'positive_votes',\n",
        "                 'radiant_score',\n",
        "                 'radiant_win',\n",
        "                 'start_time']\n",
        "\n",
        "    cluster: Any\n",
        "    dire_score: Any\n",
        "    duration: Any\n",
        "    first_blood_time: Any\n",
        "    game_mode: Any\n",
        "    human_players: Any\n",
        "    lobby_type: Any\n",
        "    match_id: Any\n",
        "    match_seq_num: Any\n",
        "    negative_votes: Any\n",
        "    picks_bans: Any\n",
        "    players: Any\n",
        "    positive_votes: Any\n",
        "    radiant_score: Any\n",
        "    radiant_win: Any\n",
        "    start_time: Any\n",
        "\n",
        "    def __post_init__(self):\n",
        "        picks_bans = self.picks_bans\n",
        "        players = self.players\n",
        "\n",
        "        pb_list = []\n",
        "        if picks_bans is not None:\n",
        "            for pb in picks_bans:\n",
        "                pb_clear = subset_of_dict(pb, PickBan.__slots__)\n",
        "                pb_list.append(PickBan(**pb_clear))\n",
        "        pb_list.sort(key=lambda x_pb: x_pb.order)\n",
        "        self.picks_bans = pb_list\n",
        "\n",
        "        pl_list = []\n",
        "        for pl in players:\n",
        "            if 'team' not in pl.keys():\n",
        "                pl['team'] = 1 if pl['player_slot'] < 128 else 0\n",
        "            pl_clear = subset_of_dict(pl, Player.__slots__)\n",
        "            pl_list.append(Player(**pl_clear))\n",
        "        self.players = pl_list\n",
        "\n",
        "\n",
        "def subset_of_dict(dictionary: dict, keys: List[str]) -> dict:\n",
        "    return {key: dictionary[key] for key in keys if key in dictionary}\n",
        "\n",
        "\n",
        "def load_games(path: str) -> List[Game]:\n",
        "    return joblib.load(path)\n",
        "\n",
        "\n",
        "def dump_games(games: List[Game], path: str) -> None:\n",
        "    joblib.dump(games, path)\n",
        "\n",
        "\n",
        "def game_to_dict(game: Game) -> dict:\n",
        "    return asdict(game)\n",
        "\n",
        "\n",
        "def dict_to_game(dictionary: dict) -> Game:\n",
        "    try:\n",
        "        dictionary_clear = subset_of_dict(dictionary, Game.__slots__)\n",
        "        new_game = Game(**dictionary_clear)\n",
        "        return new_game\n",
        "    except Exception as ex:\n",
        "        print(dictionary)\n",
        "        raise ex\n",
        "\n",
        "\n",
        "def save_to_msgpack(games_list: List[Game], path: str) -> None:\n",
        "    if not pathlib.Path(path).suffixes:\n",
        "        path = path + '.msgpack.gz'\n",
        "\n",
        "    def encode_game(obj):\n",
        "        if isinstance(obj, Game):\n",
        "            return {'__game': True, '__data': game_to_dict(obj)}\n",
        "        return obj\n",
        "\n",
        "    with gzip.open(path, 'wb') as gz_file:\n",
        "        msgpack.dump(games_list, gz_file, default=encode_game)\n",
        "\n",
        "\n",
        "def load_from_msgpack(path: str) -> List[Game]:\n",
        "    if not pathlib.Path(path).suffixes:\n",
        "        path = path + '.msgpack.gz'\n",
        "\n",
        "    def decode_game(obj):\n",
        "        if '__game' in obj:\n",
        "            obj = dict_to_game(obj['__data'])\n",
        "        return obj\n",
        "\n",
        "    with gzip.open(path, 'rb') as gz_file:\n",
        "        result = msgpack.load(gz_file, object_hook=decode_game)\n",
        "\n",
        "    return result"
      ],
      "execution_count": 0,
      "outputs": []
    },
    {
      "cell_type": "markdown",
      "metadata": {
        "id": "m1dDvBy4upCm",
        "colab_type": "text"
      },
      "source": [
        "# Start"
      ]
    },
    {
      "cell_type": "code",
      "metadata": {
        "id": "YrhTXz2junz9",
        "colab_type": "code",
        "colab": {}
      },
      "source": [
        "dataset = load_from_msgpack('/content/drive/My Drive/presonalizacja/new_scap/scrap_merge_full')"
      ],
      "execution_count": 0,
      "outputs": []
    },
    {
      "cell_type": "code",
      "metadata": {
        "id": "3yXK9mHF1IOk",
        "colab_type": "code",
        "outputId": "52a3f4e3-526d-4be0-d1a0-3ddeb6f3ca2b",
        "colab": {
          "base_uri": "https://localhost:8080/",
          "height": 34
        }
      },
      "source": [
        "print(f\"Number of games: {len(dataset)}\")"
      ],
      "execution_count": 0,
      "outputs": [
        {
          "output_type": "stream",
          "text": [
            "Number of games: 1899625\n"
          ],
          "name": "stdout"
        }
      ]
    },
    {
      "cell_type": "code",
      "metadata": {
        "id": "g-Si4FEYTwhG",
        "colab_type": "code",
        "outputId": "0aa315c5-1c1d-4aa6-a094-49308de6cc06",
        "colab": {
          "base_uri": "https://localhost:8080/",
          "height": 34
        }
      },
      "source": [
        "unique_seq = []\n",
        "unique_hero = set()\n",
        "for game in dataset:\n",
        "  seq = (p.hero_id for p in game.players)\n",
        "  unique_seq.append(seq)\n",
        "  unique_hero.update(seq)\n",
        "len(set(unique_seq))"
      ],
      "execution_count": 0,
      "outputs": [
        {
          "output_type": "execute_result",
          "data": {
            "text/plain": [
              "1899625"
            ]
          },
          "metadata": {
            "tags": []
          },
          "execution_count": 17
        }
      ]
    },
    {
      "cell_type": "code",
      "metadata": {
        "id": "zF-HNDpvvsEV",
        "colab_type": "code",
        "colab": {}
      },
      "source": [
        "with open('/content/drive/My Drive/presonalizacja/heroes.json', 'rt') as f:\n",
        "    hero_dict = json.load(f)\n",
        "\n",
        "def get_hero_name(id, hero_dict):\n",
        "    return hero_dict[str(int(id))]['localized_name']"
      ],
      "execution_count": 0,
      "outputs": []
    },
    {
      "cell_type": "markdown",
      "metadata": {
        "id": "PZHgEXuS-SPM",
        "colab_type": "text"
      },
      "source": [
        "Stastystki pick/ban dla bohaterów"
      ]
    },
    {
      "cell_type": "code",
      "metadata": {
        "id": "a3JBiBrWvm7c",
        "colab_type": "code",
        "colab": {}
      },
      "source": [
        "def get_stats(picks, bans, hero_dict):\n",
        "    df_picks = pd.DataFrame(np.vstack(np.unique(picks, return_counts=True)).T, columns=['id', 'picks'])\n",
        "    df_bans = pd.DataFrame(np.vstack(np.unique(bans, return_counts=True)).T, columns=['id', 'bans'])\n",
        "    df = df_picks.merge(df_bans, on='id')\n",
        "    df['pb'] = df.apply(lambda row: row.picks/(row.picks+row.bans), axis=1)\n",
        "    df['name'] = df.apply(lambda row: get_hero_name(row.id, hero_dict), axis=1)\n",
        "    return df[['name','picks', 'bans', 'pb']]"
      ],
      "execution_count": 0,
      "outputs": []
    },
    {
      "cell_type": "code",
      "metadata": {
        "id": "GyMt9kS7ertQ",
        "colab_type": "code",
        "colab": {}
      },
      "source": [
        "picks = []\n",
        "bans = []\n",
        "for data in dataset:\n",
        "  if data.picks_bans is not None:\n",
        "    for pick in data.picks_bans:\n",
        "      if pick.hero_id is not None:\n",
        "        if pick.is_pick:\n",
        "          picks.append(pick.hero_id)\n",
        "        else:\n",
        "          bans.append(pick.hero_id)"
      ],
      "execution_count": 0,
      "outputs": []
    },
    {
      "cell_type": "code",
      "metadata": {
        "id": "-WUzoL_ogldi",
        "colab_type": "code",
        "outputId": "9ee254aa-2f3e-4914-a2d5-eb498f8bf124",
        "colab": {
          "base_uri": "https://localhost:8080/",
          "height": 960
        }
      },
      "source": [
        "plt.figure(figsize=(12,7))\n",
        "plt.hist(picks, bins=129, density=True)\n",
        "plt.ylim([0, 0.08])\n",
        "plt.xlabel('Id bohatera')\n",
        "plt.ylabel('Udział w meczach')\n",
        "plt.savefig('/content/drive/My Drive/presonalizacja/plots/picks.png')\n",
        "print(len(picks))\n",
        "plt.show()\n",
        "get_stats(picks, bans, hero_dict).sort_values('picks', ascending=False).head(15)"
      ],
      "execution_count": 0,
      "outputs": [
        {
          "output_type": "stream",
          "text": [
            "19054663\n"
          ],
          "name": "stdout"
        },
        {
          "output_type": "display_data",
          "data": {
            "image/png": "[encoded data removed]",
            "text/plain": [
              "<Figure size 864x504 with 1 Axes>"
            ]
          },
          "metadata": {
            "tags": [],
            "needs_background": "light"
          }
        },
        {
          "output_type": "execute_result",
          "data": {
            "text/html": [
              "<div>\n",
              "<style scoped>\n",
              "    .dataframe tbody tr th:only-of-type {\n",
              "        vertical-align: middle;\n",
              "    }\n",
              "\n",
              "    .dataframe tbody tr th {\n",
              "        vertical-align: top;\n",
              "    }\n",
              "\n",
              "    .dataframe thead th {\n",
              "        text-align: right;\n",
              "    }\n",
              "</style>\n",
              "<table border=\"1\" class=\"dataframe\">\n",
              "  <thead>\n",
              "    <tr style=\"text-align: right;\">\n",
              "      <th></th>\n",
              "      <th>name</th>\n",
              "      <th>picks</th>\n",
              "      <th>bans</th>\n",
              "      <th>pb</th>\n",
              "    </tr>\n",
              "  </thead>\n",
              "  <tbody>\n",
              "    <tr>\n",
              "      <th>13</th>\n",
              "      <td>Pudge</td>\n",
              "      <td>527285</td>\n",
              "      <td>206333</td>\n",
              "      <td>0.718746</td>\n",
              "    </tr>\n",
              "    <tr>\n",
              "      <th>82</th>\n",
              "      <td>Ogre Magi</td>\n",
              "      <td>487167</td>\n",
              "      <td>51160</td>\n",
              "      <td>0.904965</td>\n",
              "    </tr>\n",
              "    <tr>\n",
              "      <th>24</th>\n",
              "      <td>Lion</td>\n",
              "      <td>484198</td>\n",
              "      <td>80823</td>\n",
              "      <td>0.856956</td>\n",
              "    </tr>\n",
              "    <tr>\n",
              "      <th>33</th>\n",
              "      <td>Sniper</td>\n",
              "      <td>458524</td>\n",
              "      <td>292298</td>\n",
              "      <td>0.610696</td>\n",
              "    </tr>\n",
              "    <tr>\n",
              "      <th>7</th>\n",
              "      <td>Juggernaut</td>\n",
              "      <td>437843</td>\n",
              "      <td>117567</td>\n",
              "      <td>0.788324</td>\n",
              "    </tr>\n",
              "    <tr>\n",
              "      <th>42</th>\n",
              "      <td>Phantom Assassin</td>\n",
              "      <td>396735</td>\n",
              "      <td>307466</td>\n",
              "      <td>0.563383</td>\n",
              "    </tr>\n",
              "    <tr>\n",
              "      <th>72</th>\n",
              "      <td>Invoker</td>\n",
              "      <td>335858</td>\n",
              "      <td>207431</td>\n",
              "      <td>0.618194</td>\n",
              "    </tr>\n",
              "    <tr>\n",
              "      <th>91</th>\n",
              "      <td>Slark</td>\n",
              "      <td>323027</td>\n",
              "      <td>293057</td>\n",
              "      <td>0.524323</td>\n",
              "    </tr>\n",
              "    <tr>\n",
              "      <th>97</th>\n",
              "      <td>Bristleback</td>\n",
              "      <td>313635</td>\n",
              "      <td>177197</td>\n",
              "      <td>0.638986</td>\n",
              "    </tr>\n",
              "    <tr>\n",
              "      <th>40</th>\n",
              "      <td>Wraith King</td>\n",
              "      <td>310761</td>\n",
              "      <td>75125</td>\n",
              "      <td>0.805318</td>\n",
              "    </tr>\n",
              "    <tr>\n",
              "      <th>102</th>\n",
              "      <td>Legion Commander</td>\n",
              "      <td>309514</td>\n",
              "      <td>72201</td>\n",
              "      <td>0.810851</td>\n",
              "    </tr>\n",
              "    <tr>\n",
              "      <th>20</th>\n",
              "      <td>Windranger</td>\n",
              "      <td>291249</td>\n",
              "      <td>110452</td>\n",
              "      <td>0.725039</td>\n",
              "    </tr>\n",
              "    <tr>\n",
              "      <th>28</th>\n",
              "      <td>Witch Doctor</td>\n",
              "      <td>288248</td>\n",
              "      <td>18418</td>\n",
              "      <td>0.939941</td>\n",
              "    </tr>\n",
              "    <tr>\n",
              "      <th>39</th>\n",
              "      <td>Faceless Void</td>\n",
              "      <td>279674</td>\n",
              "      <td>104309</td>\n",
              "      <td>0.728350</td>\n",
              "    </tr>\n",
              "    <tr>\n",
              "      <th>0</th>\n",
              "      <td>Anti-Mage</td>\n",
              "      <td>279572</td>\n",
              "      <td>687079</td>\n",
              "      <td>0.289217</td>\n",
              "    </tr>\n",
              "  </tbody>\n",
              "</table>\n",
              "</div>"
            ],
            "text/plain": [
              "                 name   picks    bans        pb\n",
              "13              Pudge  527285  206333  0.718746\n",
              "82          Ogre Magi  487167   51160  0.904965\n",
              "24               Lion  484198   80823  0.856956\n",
              "33             Sniper  458524  292298  0.610696\n",
              "7          Juggernaut  437843  117567  0.788324\n",
              "42   Phantom Assassin  396735  307466  0.563383\n",
              "72            Invoker  335858  207431  0.618194\n",
              "91              Slark  323027  293057  0.524323\n",
              "97        Bristleback  313635  177197  0.638986\n",
              "40        Wraith King  310761   75125  0.805318\n",
              "102  Legion Commander  309514   72201  0.810851\n",
              "20         Windranger  291249  110452  0.725039\n",
              "28       Witch Doctor  288248   18418  0.939941\n",
              "39      Faceless Void  279674  104309  0.728350\n",
              "0           Anti-Mage  279572  687079  0.289217"
            ]
          },
          "metadata": {
            "tags": []
          },
          "execution_count": 20
        }
      ]
    },
    {
      "cell_type": "code",
      "metadata": {
        "id": "DD2Plno7g7n0",
        "colab_type": "code",
        "outputId": "66afd9f8-1063-4de7-e62f-8102b09807da",
        "colab": {
          "base_uri": "https://localhost:8080/",
          "height": 960
        }
      },
      "source": [
        "plt.figure(figsize=(12,7))\n",
        "plt.hist(bans, bins=119, density=True)\n",
        "plt.xlabel('Id bohatera')\n",
        "plt.ylabel('Udział w meczach')\n",
        "plt.savefig('/content/drive/My Drive/presonalizacja/plots/bans.png')\n",
        "plt.ylim([0, 0.08])\n",
        "print(len(bans))\n",
        "plt.show()\n",
        "get_stats(picks, bans, hero_dict).sort_values('bans', ascending=False).head(15)"
      ],
      "execution_count": 0,
      "outputs": [
        {
          "output_type": "stream",
          "text": [
            "8581753\n"
          ],
          "name": "stdout"
        },
        {
          "output_type": "display_data",
          "data": {
            "image/png": "[encoded data removed]",
            "text/plain": [
              "<Figure size 864x504 with 1 Axes>"
            ]
          },
          "metadata": {
            "tags": [],
            "needs_background": "light"
          }
        },
        {
          "output_type": "execute_result",
          "data": {
            "text/html": [
              "<div>\n",
              "<style scoped>\n",
              "    .dataframe tbody tr th:only-of-type {\n",
              "        vertical-align: middle;\n",
              "    }\n",
              "\n",
              "    .dataframe tbody tr th {\n",
              "        vertical-align: top;\n",
              "    }\n",
              "\n",
              "    .dataframe thead th {\n",
              "        text-align: right;\n",
              "    }\n",
              "</style>\n",
              "<table border=\"1\" class=\"dataframe\">\n",
              "  <thead>\n",
              "    <tr style=\"text-align: right;\">\n",
              "      <th></th>\n",
              "      <th>name</th>\n",
              "      <th>picks</th>\n",
              "      <th>bans</th>\n",
              "      <th>pb</th>\n",
              "    </tr>\n",
              "  </thead>\n",
              "  <tbody>\n",
              "    <tr>\n",
              "      <th>0</th>\n",
              "      <td>Anti-Mage</td>\n",
              "      <td>279572</td>\n",
              "      <td>687079</td>\n",
              "      <td>0.289217</td>\n",
              "    </tr>\n",
              "    <tr>\n",
              "      <th>11</th>\n",
              "      <td>Phantom Lancer</td>\n",
              "      <td>165064</td>\n",
              "      <td>479506</td>\n",
              "      <td>0.256084</td>\n",
              "    </tr>\n",
              "    <tr>\n",
              "      <th>103</th>\n",
              "      <td>Techies</td>\n",
              "      <td>173222</td>\n",
              "      <td>476677</td>\n",
              "      <td>0.266537</td>\n",
              "    </tr>\n",
              "    <tr>\n",
              "      <th>80</th>\n",
              "      <td>Meepo</td>\n",
              "      <td>62219</td>\n",
              "      <td>470184</td>\n",
              "      <td>0.116864</td>\n",
              "    </tr>\n",
              "    <tr>\n",
              "      <th>42</th>\n",
              "      <td>Phantom Assassin</td>\n",
              "      <td>396735</td>\n",
              "      <td>307466</td>\n",
              "      <td>0.563383</td>\n",
              "    </tr>\n",
              "    <tr>\n",
              "      <th>91</th>\n",
              "      <td>Slark</td>\n",
              "      <td>323027</td>\n",
              "      <td>293057</td>\n",
              "      <td>0.524323</td>\n",
              "    </tr>\n",
              "    <tr>\n",
              "      <th>33</th>\n",
              "      <td>Sniper</td>\n",
              "      <td>458524</td>\n",
              "      <td>292298</td>\n",
              "      <td>0.610696</td>\n",
              "    </tr>\n",
              "    <tr>\n",
              "      <th>30</th>\n",
              "      <td>Riki</td>\n",
              "      <td>171329</td>\n",
              "      <td>287152</td>\n",
              "      <td>0.373688</td>\n",
              "    </tr>\n",
              "    <tr>\n",
              "      <th>32</th>\n",
              "      <td>Tinker</td>\n",
              "      <td>125323</td>\n",
              "      <td>279181</td>\n",
              "      <td>0.309819</td>\n",
              "    </tr>\n",
              "    <tr>\n",
              "      <th>116</th>\n",
              "      <td>Void Spirit</td>\n",
              "      <td>201606</td>\n",
              "      <td>228195</td>\n",
              "      <td>0.469068</td>\n",
              "    </tr>\n",
              "    <tr>\n",
              "      <th>72</th>\n",
              "      <td>Invoker</td>\n",
              "      <td>335858</td>\n",
              "      <td>207431</td>\n",
              "      <td>0.618194</td>\n",
              "    </tr>\n",
              "    <tr>\n",
              "      <th>13</th>\n",
              "      <td>Pudge</td>\n",
              "      <td>527285</td>\n",
              "      <td>206333</td>\n",
              "      <td>0.718746</td>\n",
              "    </tr>\n",
              "    <tr>\n",
              "      <th>9</th>\n",
              "      <td>Morphling</td>\n",
              "      <td>171298</td>\n",
              "      <td>205798</td>\n",
              "      <td>0.454256</td>\n",
              "    </tr>\n",
              "    <tr>\n",
              "      <th>57</th>\n",
              "      <td>Huskar</td>\n",
              "      <td>110193</td>\n",
              "      <td>186643</td>\n",
              "      <td>0.371225</td>\n",
              "    </tr>\n",
              "    <tr>\n",
              "      <th>112</th>\n",
              "      <td>Monkey King</td>\n",
              "      <td>272097</td>\n",
              "      <td>177893</td>\n",
              "      <td>0.604673</td>\n",
              "    </tr>\n",
              "  </tbody>\n",
              "</table>\n",
              "</div>"
            ],
            "text/plain": [
              "                 name   picks    bans        pb\n",
              "0           Anti-Mage  279572  687079  0.289217\n",
              "11     Phantom Lancer  165064  479506  0.256084\n",
              "103           Techies  173222  476677  0.266537\n",
              "80              Meepo   62219  470184  0.116864\n",
              "42   Phantom Assassin  396735  307466  0.563383\n",
              "91              Slark  323027  293057  0.524323\n",
              "33             Sniper  458524  292298  0.610696\n",
              "30               Riki  171329  287152  0.373688\n",
              "32             Tinker  125323  279181  0.309819\n",
              "116       Void Spirit  201606  228195  0.469068\n",
              "72            Invoker  335858  207431  0.618194\n",
              "13              Pudge  527285  206333  0.718746\n",
              "9           Morphling  171298  205798  0.454256\n",
              "57             Huskar  110193  186643  0.371225\n",
              "112       Monkey King  272097  177893  0.604673"
            ]
          },
          "metadata": {
            "tags": []
          },
          "execution_count": 9
        }
      ]
    },
    {
      "cell_type": "code",
      "metadata": {
        "id": "dZlPeurK0J6i",
        "colab_type": "code",
        "outputId": "d1c37f92-7f2d-42c6-d38d-65582eeead7e",
        "colab": {
          "base_uri": "https://localhost:8080/",
          "height": 514
        }
      },
      "source": [
        "get_stats(picks, bans, hero_dict).sort_values('pb', ascending=False).head(15)"
      ],
      "execution_count": 0,
      "outputs": [
        {
          "output_type": "execute_result",
          "data": {
            "text/html": [
              "<div>\n",
              "<style scoped>\n",
              "    .dataframe tbody tr th:only-of-type {\n",
              "        vertical-align: middle;\n",
              "    }\n",
              "\n",
              "    .dataframe tbody tr th {\n",
              "        vertical-align: top;\n",
              "    }\n",
              "\n",
              "    .dataframe thead th {\n",
              "        text-align: right;\n",
              "    }\n",
              "</style>\n",
              "<table border=\"1\" class=\"dataframe\">\n",
              "  <thead>\n",
              "    <tr style=\"text-align: right;\">\n",
              "      <th></th>\n",
              "      <th>name</th>\n",
              "      <th>picks</th>\n",
              "      <th>bans</th>\n",
              "      <th>pb</th>\n",
              "    </tr>\n",
              "  </thead>\n",
              "  <tbody>\n",
              "    <tr>\n",
              "      <th>4</th>\n",
              "      <td>Crystal Maiden</td>\n",
              "      <td>275160</td>\n",
              "      <td>5260</td>\n",
              "      <td>0.981242</td>\n",
              "    </tr>\n",
              "    <tr>\n",
              "      <th>25</th>\n",
              "      <td>Shadow Shaman</td>\n",
              "      <td>201806</td>\n",
              "      <td>7743</td>\n",
              "      <td>0.963049</td>\n",
              "    </tr>\n",
              "    <tr>\n",
              "      <th>15</th>\n",
              "      <td>Sand King</td>\n",
              "      <td>101291</td>\n",
              "      <td>4742</td>\n",
              "      <td>0.955278</td>\n",
              "    </tr>\n",
              "    <tr>\n",
              "      <th>27</th>\n",
              "      <td>Tidehunter</td>\n",
              "      <td>107701</td>\n",
              "      <td>5249</td>\n",
              "      <td>0.953528</td>\n",
              "    </tr>\n",
              "    <tr>\n",
              "      <th>47</th>\n",
              "      <td>Dragon Knight</td>\n",
              "      <td>160569</td>\n",
              "      <td>8111</td>\n",
              "      <td>0.951915</td>\n",
              "    </tr>\n",
              "    <tr>\n",
              "      <th>84</th>\n",
              "      <td>Rubick</td>\n",
              "      <td>269400</td>\n",
              "      <td>14553</td>\n",
              "      <td>0.948749</td>\n",
              "    </tr>\n",
              "    <tr>\n",
              "      <th>98</th>\n",
              "      <td>Tusk</td>\n",
              "      <td>132857</td>\n",
              "      <td>7290</td>\n",
              "      <td>0.947983</td>\n",
              "    </tr>\n",
              "    <tr>\n",
              "      <th>62</th>\n",
              "      <td>Jakiro</td>\n",
              "      <td>227550</td>\n",
              "      <td>12674</td>\n",
              "      <td>0.947241</td>\n",
              "    </tr>\n",
              "    <tr>\n",
              "      <th>105</th>\n",
              "      <td>Earth Spirit</td>\n",
              "      <td>69931</td>\n",
              "      <td>4035</td>\n",
              "      <td>0.945448</td>\n",
              "    </tr>\n",
              "    <tr>\n",
              "      <th>53</th>\n",
              "      <td>Dark Seer</td>\n",
              "      <td>39074</td>\n",
              "      <td>2255</td>\n",
              "      <td>0.945438</td>\n",
              "    </tr>\n",
              "    <tr>\n",
              "      <th>94</th>\n",
              "      <td>Centaur Warrunner</td>\n",
              "      <td>114975</td>\n",
              "      <td>6673</td>\n",
              "      <td>0.945145</td>\n",
              "    </tr>\n",
              "    <tr>\n",
              "      <th>85</th>\n",
              "      <td>Disruptor</td>\n",
              "      <td>185344</td>\n",
              "      <td>11126</td>\n",
              "      <td>0.943370</td>\n",
              "    </tr>\n",
              "    <tr>\n",
              "      <th>19</th>\n",
              "      <td>Vengeful Spirit</td>\n",
              "      <td>96589</td>\n",
              "      <td>5872</td>\n",
              "      <td>0.942690</td>\n",
              "    </tr>\n",
              "    <tr>\n",
              "      <th>18</th>\n",
              "      <td>Tiny</td>\n",
              "      <td>90166</td>\n",
              "      <td>5705</td>\n",
              "      <td>0.940493</td>\n",
              "    </tr>\n",
              "    <tr>\n",
              "      <th>28</th>\n",
              "      <td>Witch Doctor</td>\n",
              "      <td>288248</td>\n",
              "      <td>18418</td>\n",
              "      <td>0.939941</td>\n",
              "    </tr>\n",
              "  </tbody>\n",
              "</table>\n",
              "</div>"
            ],
            "text/plain": [
              "                  name   picks   bans        pb\n",
              "4       Crystal Maiden  275160   5260  0.981242\n",
              "25       Shadow Shaman  201806   7743  0.963049\n",
              "15           Sand King  101291   4742  0.955278\n",
              "27          Tidehunter  107701   5249  0.953528\n",
              "47       Dragon Knight  160569   8111  0.951915\n",
              "84              Rubick  269400  14553  0.948749\n",
              "98                Tusk  132857   7290  0.947983\n",
              "62              Jakiro  227550  12674  0.947241\n",
              "105       Earth Spirit   69931   4035  0.945448\n",
              "53           Dark Seer   39074   2255  0.945438\n",
              "94   Centaur Warrunner  114975   6673  0.945145\n",
              "85           Disruptor  185344  11126  0.943370\n",
              "19     Vengeful Spirit   96589   5872  0.942690\n",
              "18                Tiny   90166   5705  0.940493\n",
              "28        Witch Doctor  288248  18418  0.939941"
            ]
          },
          "metadata": {
            "tags": []
          },
          "execution_count": 21
        }
      ]
    },
    {
      "cell_type": "code",
      "metadata": {
        "id": "LT4goCxG0Tn8",
        "colab_type": "code",
        "outputId": "b7edc3a0-c2b1-4f74-f418-0f9ff48a9710",
        "colab": {
          "base_uri": "https://localhost:8080/",
          "height": 514
        }
      },
      "source": [
        "get_stats(picks, bans, hero_dict).sort_values('pb', ascending=False).tail(15)"
      ],
      "execution_count": 0,
      "outputs": [
        {
          "output_type": "execute_result",
          "data": {
            "text/html": [
              "<div>\n",
              "<style scoped>\n",
              "    .dataframe tbody tr th:only-of-type {\n",
              "        vertical-align: middle;\n",
              "    }\n",
              "\n",
              "    .dataframe tbody tr th {\n",
              "        vertical-align: top;\n",
              "    }\n",
              "\n",
              "    .dataframe thead th {\n",
              "        text-align: right;\n",
              "    }\n",
              "</style>\n",
              "<table border=\"1\" class=\"dataframe\">\n",
              "  <thead>\n",
              "    <tr style=\"text-align: right;\">\n",
              "      <th></th>\n",
              "      <th>name</th>\n",
              "      <th>picks</th>\n",
              "      <th>bans</th>\n",
              "      <th>pb</th>\n",
              "    </tr>\n",
              "  </thead>\n",
              "  <tbody>\n",
              "    <tr>\n",
              "      <th>42</th>\n",
              "      <td>Phantom Assassin</td>\n",
              "      <td>396735</td>\n",
              "      <td>307466</td>\n",
              "      <td>0.563383</td>\n",
              "    </tr>\n",
              "    <tr>\n",
              "      <th>45</th>\n",
              "      <td>Viper</td>\n",
              "      <td>130301</td>\n",
              "      <td>114723</td>\n",
              "      <td>0.531789</td>\n",
              "    </tr>\n",
              "    <tr>\n",
              "      <th>91</th>\n",
              "      <td>Slark</td>\n",
              "      <td>323027</td>\n",
              "      <td>293057</td>\n",
              "      <td>0.524323</td>\n",
              "    </tr>\n",
              "    <tr>\n",
              "      <th>87</th>\n",
              "      <td>Naga Siren</td>\n",
              "      <td>50996</td>\n",
              "      <td>57469</td>\n",
              "      <td>0.470161</td>\n",
              "    </tr>\n",
              "    <tr>\n",
              "      <th>116</th>\n",
              "      <td>Void Spirit</td>\n",
              "      <td>201606</td>\n",
              "      <td>228195</td>\n",
              "      <td>0.469068</td>\n",
              "    </tr>\n",
              "    <tr>\n",
              "      <th>9</th>\n",
              "      <td>Morphling</td>\n",
              "      <td>171298</td>\n",
              "      <td>205798</td>\n",
              "      <td>0.454256</td>\n",
              "    </tr>\n",
              "    <tr>\n",
              "      <th>75</th>\n",
              "      <td>Lycan</td>\n",
              "      <td>43120</td>\n",
              "      <td>65699</td>\n",
              "      <td>0.396254</td>\n",
              "    </tr>\n",
              "    <tr>\n",
              "      <th>30</th>\n",
              "      <td>Riki</td>\n",
              "      <td>171329</td>\n",
              "      <td>287152</td>\n",
              "      <td>0.373688</td>\n",
              "    </tr>\n",
              "    <tr>\n",
              "      <th>57</th>\n",
              "      <td>Huskar</td>\n",
              "      <td>110193</td>\n",
              "      <td>186643</td>\n",
              "      <td>0.371225</td>\n",
              "    </tr>\n",
              "    <tr>\n",
              "      <th>32</th>\n",
              "      <td>Tinker</td>\n",
              "      <td>125323</td>\n",
              "      <td>279181</td>\n",
              "      <td>0.309819</td>\n",
              "    </tr>\n",
              "    <tr>\n",
              "      <th>0</th>\n",
              "      <td>Anti-Mage</td>\n",
              "      <td>279572</td>\n",
              "      <td>687079</td>\n",
              "      <td>0.289217</td>\n",
              "    </tr>\n",
              "    <tr>\n",
              "      <th>103</th>\n",
              "      <td>Techies</td>\n",
              "      <td>173222</td>\n",
              "      <td>476677</td>\n",
              "      <td>0.266537</td>\n",
              "    </tr>\n",
              "    <tr>\n",
              "      <th>11</th>\n",
              "      <td>Phantom Lancer</td>\n",
              "      <td>165064</td>\n",
              "      <td>479506</td>\n",
              "      <td>0.256084</td>\n",
              "    </tr>\n",
              "    <tr>\n",
              "      <th>59</th>\n",
              "      <td>Broodmother</td>\n",
              "      <td>33509</td>\n",
              "      <td>139570</td>\n",
              "      <td>0.193605</td>\n",
              "    </tr>\n",
              "    <tr>\n",
              "      <th>80</th>\n",
              "      <td>Meepo</td>\n",
              "      <td>62219</td>\n",
              "      <td>470184</td>\n",
              "      <td>0.116864</td>\n",
              "    </tr>\n",
              "  </tbody>\n",
              "</table>\n",
              "</div>"
            ],
            "text/plain": [
              "                 name   picks    bans        pb\n",
              "42   Phantom Assassin  396735  307466  0.563383\n",
              "45              Viper  130301  114723  0.531789\n",
              "91              Slark  323027  293057  0.524323\n",
              "87         Naga Siren   50996   57469  0.470161\n",
              "116       Void Spirit  201606  228195  0.469068\n",
              "9           Morphling  171298  205798  0.454256\n",
              "75              Lycan   43120   65699  0.396254\n",
              "30               Riki  171329  287152  0.373688\n",
              "57             Huskar  110193  186643  0.371225\n",
              "32             Tinker  125323  279181  0.309819\n",
              "0           Anti-Mage  279572  687079  0.289217\n",
              "103           Techies  173222  476677  0.266537\n",
              "11     Phantom Lancer  165064  479506  0.256084\n",
              "59        Broodmother   33509  139570  0.193605\n",
              "80              Meepo   62219  470184  0.116864"
            ]
          },
          "metadata": {
            "tags": []
          },
          "execution_count": 23
        }
      ]
    },
    {
      "cell_type": "markdown",
      "metadata": {
        "id": "o3xOjDMc_uu6",
        "colab_type": "text"
      },
      "source": [
        "Win ratio per hero"
      ]
    },
    {
      "cell_type": "code",
      "metadata": {
        "id": "vVraUDNq_0Rm",
        "colab_type": "code",
        "colab": {}
      },
      "source": [
        "win = []\n",
        "all_games = []\n",
        "for game in dataset:\n",
        "  dire_heroes = [ p.hero_id for p in game.players if p.team == 0]\n",
        "  radiant_heroes = [ p.hero_id for p in game.players if p.team == 1]\n",
        "  all_games.extend(dire_heroes)\n",
        "  all_games.extend(radiant_heroes)\n",
        "  if game.radiant_win:\n",
        "    win.extend(radiant_heroes)\n",
        "  else:\n",
        "    win.extend(dire_heroes)"
      ],
      "execution_count": 0,
      "outputs": []
    },
    {
      "cell_type": "code",
      "metadata": {
        "id": "oKtA2etILnEG",
        "colab_type": "code",
        "colab": {}
      },
      "source": [
        "ag = Counter(all_games)\n",
        "w = Counter(win)"
      ],
      "execution_count": 0,
      "outputs": []
    },
    {
      "cell_type": "code",
      "metadata": {
        "id": "oAmdcVzyMIp5",
        "colab_type": "code",
        "colab": {}
      },
      "source": [
        "win_ratio = dict()\n",
        "for i in range(len(ag)):\n",
        "  if ag[i] >0:\n",
        "    win_ratio[i] = w[i] /ag[i]\n",
        "  else:\n",
        "    win_ratio[i] = 0"
      ],
      "execution_count": 0,
      "outputs": []
    },
    {
      "cell_type": "code",
      "metadata": {
        "id": "zyDvwq2yR5Ek",
        "colab_type": "code",
        "outputId": "f77f3b7a-7231-4d72-aa68-dd0218683ba1",
        "colab": {
          "base_uri": "https://localhost:8080/",
          "height": 446
        }
      },
      "source": [
        "plt.figure(figsize=(12,7))\n",
        "D = win_ratio\n",
        "plt.bar(range(len(D)), list(D.values()), align='center')\n",
        "plt.ylim([0.4,0.6])\n",
        "plt.xlabel('Id bohatera')\n",
        "plt.ylabel('Win ratio')\n",
        "plt.savefig('/content/drive/My Drive/presonalizacja/plots/win_ratio.png')\n",
        "plt.show()"
      ],
      "execution_count": 0,
      "outputs": [
        {
          "output_type": "display_data",
          "data": {
            "image/png": "[encoded data removed]",
            "text/plain": [
              "<Figure size 864x504 with 1 Axes>"
            ]
          },
          "metadata": {
            "tags": [],
            "needs_background": "light"
          }
        }
      ]
    },
    {
      "cell_type": "code",
      "metadata": {
        "id": "98Q5JPzT3QLi",
        "colab_type": "code",
        "colab": {}
      },
      "source": [
        "d = []\n",
        "a = []\n",
        "k = []\n",
        "gpm = []\n",
        "xpm = []\n",
        "for data in dataset:\n",
        "    for player in data.players:\n",
        "      d.append(player.deaths)\n",
        "      a.append(player.assists)\n",
        "      k.append(player.kills)\n",
        "      gpm.append(player.gold_per_min)\n",
        "      xpm.append(player.xp_per_min)"
      ],
      "execution_count": 0,
      "outputs": []
    },
    {
      "cell_type": "code",
      "metadata": {
        "id": "OPdzKy3w5mIv",
        "colab_type": "code",
        "outputId": "53e7a99b-5924-40dd-918d-c98f8caf467c",
        "colab": {
          "base_uri": "https://localhost:8080/",
          "height": 1000
        }
      },
      "source": [
        "plt.hist(a, bins = len(np.unique(a)), density = True)\n",
        "plt.title('Assists')\n",
        "plt.show()\n",
        "plt.hist(d, bins = len(np.unique(d)), density = True)\n",
        "plt.title('Deaths')\n",
        "plt.show()\n",
        "plt.hist(k, bins = len(np.unique(k)), density = True)\n",
        "plt.title('Kills')\n",
        "plt.show()\n",
        "plt.hist(gpm, bins = 50, density = True)\n",
        "plt.title('Gold per minute')\n",
        "plt.show()\n",
        "plt.hist(xpm, bins = 50, density = True)\n",
        "plt.title('XP per minute')\n",
        "plt.show()"
      ],
      "execution_count": 0,
      "outputs": [
        {
          "output_type": "display_data",
          "data": {
            "image/png": "[encoded data removed]",
            "text/plain": [
              "<Figure size 432x288 with 1 Axes>"
            ]
          },
          "metadata": {
            "tags": [],
            "needs_background": "light"
          }
        },
        {
          "output_type": "display_data",
          "data": {
            "image/png": "[encoded data removed]",
            "text/plain": [
              "<Figure size 432x288 with 1 Axes>"
            ]
          },
          "metadata": {
            "tags": [],
            "needs_background": "light"
          }
        },
        {
          "output_type": "display_data",
          "data": {
            "image/png": "[encoded data removed]",
            "text/plain": [
              "<Figure size 432x288 with 1 Axes>"
            ]
          },
          "metadata": {
            "tags": [],
            "needs_background": "light"
          }
        },
        {
          "output_type": "display_data",
          "data": {
            "image/png": "[encoded data removed]",
            "text/plain": [
              "<Figure size 432x288 with 1 Axes>"
            ]
          },
          "metadata": {
            "tags": [],
            "needs_background": "light"
          }
        },
        {
          "output_type": "display_data",
          "data": {
            "image/png": "[encoded data removed]",
            "text/plain": [
              "<Figure size 432x288 with 1 Axes>"
            ]
          },
          "metadata": {
            "tags": [],
            "needs_background": "light"
          }
        }
      ]
    },
    {
      "cell_type": "code",
      "metadata": {
        "id": "qKq-AGWMRru9",
        "colab_type": "code",
        "outputId": "d184e2ce-e664-4d1e-8672-2989c01c379e",
        "colab": {
          "base_uri": "https://localhost:8080/",
          "height": 34
        }
      },
      "source": [
        "radiant_win = 0\n",
        "for data in dataset:\n",
        "    radiant_win += 1 if data.radiant_win else 0\n",
        "print(f\"Radiant win: {radiant_win/len(dataset)}%\")"
      ],
      "execution_count": 0,
      "outputs": [
        {
          "output_type": "stream",
          "text": [
            "Radiant win: 0.5340480357965388%\n"
          ],
          "name": "stdout"
        }
      ]
    },
    {
      "cell_type": "code",
      "metadata": {
        "id": "IiZ1y01J2ojU",
        "colab_type": "code",
        "outputId": "f61ae5cc-51cc-406f-cbc4-8a51f3bb8f46",
        "colab": {
          "base_uri": "https://localhost:8080/",
          "height": 286
        }
      },
      "source": [
        "times = []\n",
        "for data in dataset:\n",
        "    times.append(data.duration//100)\n",
        "plt.hist(times, bins = len(np.unique(times)), density = True)\n",
        "plt.plot()\n",
        "print('Max time: ',max(times))"
      ],
      "execution_count": 0,
      "outputs": [
        {
          "output_type": "stream",
          "text": [
            "Max time:  102\n"
          ],
          "name": "stdout"
        },
        {
          "output_type": "display_data",
          "data": {
            "image/png": "[encoded data removed]",
            "text/plain": [
              "<Figure size 432x288 with 1 Axes>"
            ]
          },
          "metadata": {
            "tags": [],
            "needs_background": "light"
          }
        }
      ]
    }
  ]
}