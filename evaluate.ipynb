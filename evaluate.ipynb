{
 "cells": [
  {
   "cell_type": "code",
   "execution_count": 33,
   "metadata": {},
   "outputs": [],
   "source": [
    "from models.api_models import *\n",
    "from tqdm import tqdm\n",
    "import time\n",
    "import joblib\n",
    "from models.feature_extractor import FeatureExtractor\n",
    "from models.win_rate_models import WinRateSciKitModel\n",
    "from models.mcts_draft import AllPickDraft, CaptainsModeDraft, getOrderedMoves\n",
    "from mcts import mcts\n",
    "from copy import deepcopy\n",
    "import seaborn as sns"
   ]
  },
  {
   "cell_type": "code",
   "execution_count": 2,
   "metadata": {},
   "outputs": [],
   "source": [
    "EVALUATE_PICKE_PATH = 'input/pro_pb.joblib' "
   ]
  },
  {
   "cell_type": "code",
   "execution_count": 3,
   "metadata": {},
   "outputs": [],
   "source": [
    "feature_extractor = joblib.load('input/feature_extractor.joblib')\n",
    "linear_svc = joblib.load('input/linear_svc.joblib')\n",
    "win_rate_model = WinRateSciKitModel(feature_extractor, linear_svc)"
   ]
  },
  {
   "cell_type": "code",
   "execution_count": 4,
   "metadata": {},
   "outputs": [],
   "source": [
    "picks_bans_list = joblib.load(EVALUATE_PICKE_PATH)"
   ]
  },
  {
   "cell_type": "code",
   "execution_count": 19,
   "metadata": {},
   "outputs": [],
   "source": [
    "def to_initial_state(pb_list, wr_model):\n",
    "    bans = []\n",
    "    radiant_picks = []\n",
    "    dire_picks = []\n",
    "    for pb in pb_list:\n",
    "        if not pb.is_pick:\n",
    "            bans.append(pb.hero_id)\n",
    "        else:\n",
    "            if pb.team == 1:\n",
    "                radiant_picks.append(pb.hero_id)\n",
    "            else:\n",
    "                dire_picks.append(pb.hero_id)\n",
    "    state = AllPickDraft(wr_model, bans=bans, radiant_picks=set(radiant_picks[:3]), dire_picks=set(dire_picks[:3]))\n",
    "    return state, radiant_picks[3:], dire_picks[3:]"
   ]
  },
  {
   "cell_type": "code",
   "execution_count": 20,
   "metadata": {},
   "outputs": [],
   "source": [
    "pick_bans_states = [to_initial_state(picks_bans, win_rate_model) for picks_bans in picks_bans_list]"
   ]
  },
  {
   "cell_type": "code",
   "execution_count": 21,
   "metadata": {},
   "outputs": [
    {
     "data": {
      "text/plain": [
       "[({'b': {98, 39, 106, 77, 110, 46, 80, 16, 114, 86, 120, 58}, 'r': {75, 83, 91}, 'd': {33, 7, 63}, 'i': True, 'c': 1},\n",
       "  [19, 48],\n",
       "  [38, 67]),\n",
       " ({'b': {33, 66, 3, 98, 36, 38, 39, 106, 77, 110, 22, 58}, 'r': {80, 86, 30}, 'd': {16, 91, 63}, 'i': True, 'c': 1},\n",
       "  [4, 129],\n",
       "  [72, 50]),\n",
       " ({'b': {66, 3, 36, 102, 39, 106, 43, 45, 110, 114, 58, 59}, 'r': {49, 83, 86}, 'd': {80, 35, 30}, 'i': True, 'c': 1},\n",
       "  [32, 46],\n",
       "  [129, 95]),\n",
       " ({'b': {33, 3, 36, 4, 39, 106, 77, 110, 48, 49, 81, 83}, 'r': {66, 43, 86}, 'd': {80, 58, 7}, 'i': True, 'c': 1},\n",
       "  [120, 95],\n",
       "  [9, 38]),\n",
       " ({'b': {98, 3, 36, 68, 4, 39, 106, 110, 79, 86, 58, 30}, 'r': {49, 7, 63}, 'd': {51, 66, 43}, 'i': True, 'c': 1},\n",
       "  [33, 61],\n",
       "  [77, 53]),\n",
       " ({'b': {33, 66, 3, 36, 4, 39, 77, 110, 86, 58, 62, 63}, 'r': {104, 90, 7}, 'd': {106, 50, 30}, 'i': True, 'c': 1},\n",
       "  [98, 1],\n",
       "  [120, 10]),\n",
       " ({'b': {32, 129, 98, 36, 38, 39, 7, 110, 86, 121, 58, 61}, 'r': {83, 106, 35}, 'd': {49, 20, 77}, 'i': True, 'c': 1},\n",
       "  [29, 99],\n",
       "  [33, 30]),\n",
       " ({'b': {66, 99, 98, 35, 110, 15, 49, 114, 86, 121, 58, 30}, 'r': {77, 87, 7}, 'd': {90, 29, 39}, 'i': True, 'c': 1},\n",
       "  [36, 46],\n",
       "  [95, 33]),\n",
       " ({'b': {129, 33, 98, 65, 90, 106, 10, 77, 110, 49, 58, 91}, 'r': {86, 53, 102}, 'd': {66, 39, 7}, 'i': True, 'c': 1},\n",
       "  [47, 16],\n",
       "  [114, 15]),\n",
       " ({'b': {33, 65, 58, 68, 36, 10, 106, 77, 110, 46, 53, 90}, 'r': {129, 83, 5}, 'd': {66, 91, 39}, 'i': True, 'c': 1},\n",
       "  [48, 25],\n",
       "  [93, 42]),\n",
       " ({'b': {65, 58, 10, 106, 77, 110, 48, 83, 53, 25, 90, 92}, 'r': {33, 100, 63}, 'd': {129, 3, 121}, 'i': True, 'c': 1},\n",
       "  [99, 47],\n",
       "  [42, 17]),\n",
       " ({'b': {66, 77, 110, 79, 80, 46, 53, 86, 58, 91, 92, 62}, 'r': {83, 3, 39}, 'd': {106, 90, 102}, 'i': True, 'c': 1},\n",
       "  [10, 98],\n",
       "  [38, 25]),\n",
       " ({'b': {33, 38, 59, 106, 77, 110, 79, 80, 47, 53, 58, 91}, 'r': {107, 20, 39}, 'd': {49, 21, 111}, 'i': True, 'c': 1},\n",
       "  [48, 82],\n",
       "  [100, 97]),\n",
       " ({'b': {33, 106, 77, 110, 79, 80, 48, 82, 53, 58, 91, 61}, 'r': {107, 20, 39}, 'd': {49, 121, 86}, 'i': True, 'c': 1},\n",
       "  [47, 43],\n",
       "  [78, 113]),\n",
       " ({'b': {99, 39, 106, 77, 46, 110, 47, 112, 82, 25, 58, 126}, 'r': {32, 121, 7}, 'd': {83, 91, 38}, 'i': True, 'c': 1},\n",
       "  [33, 98],\n",
       "  [19, 75]),\n",
       " ({'b': {99, 39, 106, 77, 110, 46, 112, 47, 15, 45, 58, 91}, 'r': {64, 100, 53}, 'd': {121, 79, 49}, 'i': True, 'c': 1},\n",
       "  [10, 98],\n",
       "  [38, 114]),\n",
       " ({'b': {99, 39, 106, 12, 77, 46, 47, 49, 114, 20, 91, 61}, 'r': {38, 121, 110}, 'd': {9, 58, 23}, 'i': True, 'c': 1},\n",
       "  [32, 19],\n",
       "  [48, 74]),\n",
       " ({'b': {129, 66, 99, 100, 98, 39, 106, 77, 46, 83, 30, 63}, 'r': {121, 53, 79}, 'd': {72, 58, 91}, 'i': True, 'c': 1},\n",
       "  [49, 32],\n",
       "  [38, 47]),\n",
       " ({'b': {66, 99, 98, 38, 39, 106, 77, 47, 83, 91, 61, 30}, 'r': {72, 65, 100}, 'd': {58, 107, 53}, 'i': True, 'c': 1},\n",
       "  [129, 11],\n",
       "  [10, 126]),\n",
       " ({'b': {65, 66, 36, 39, 106, 43, 77, 110, 109, 91, 61, 63}, 'r': {16, 90, 3}, 'd': {49, 58, 86}, 'i': True, 'c': 1},\n",
       "  [45, 93],\n",
       "  [48, 17])]"
      ]
     },
     "execution_count": 21,
     "metadata": {},
     "output_type": "execute_result"
    }
   ],
   "source": [
    "pick_bans_states"
   ]
  },
  {
   "cell_type": "code",
   "execution_count": 31,
   "metadata": {},
   "outputs": [
    {
     "name": "stderr",
     "output_type": "stream",
     "text": [
      "100%|████████████████████████████████████████████████████████████████████████████████████████████████████████████████████████████████████████████████████| 20/20 [03:20<00:00, 10.01s/it]\n"
     ]
    }
   ],
   "source": [
    "results = []\n",
    "for state, rlp, dlp in tqdm(pick_bans_states):\n",
    "    state_r = deepcopy(state)\n",
    "    state_r.is_radiant_player = True\n",
    "    state_d = deepcopy(state)\n",
    "    state_d.is_radiant_player = False\n",
    "    # radiant\n",
    "    mcts_object = mcts(timeLimit=5_000)\n",
    "    mcts_object.search(state_r)\n",
    "    top_n = getOrderedMoves(mcts_object, 130)\n",
    "    results.append((top_n, rlp))\n",
    "    # dire\n",
    "    mcts_object = mcts(timeLimit=5_000)\n",
    "    mcts_object.search(state_d)\n",
    "    top_n = getOrderedMoves(mcts_object, 130)\n",
    "    results.append((top_n, dlp))"
   ]
  },
  {
   "cell_type": "code",
   "execution_count": 34,
   "metadata": {},
   "outputs": [
    {
     "name": "stdout",
     "output_type": "stream",
     "text": [
      "[42, 92, 38, 84, 32, 67, 64, 56, 48, 35, 20, 36, 108, 4, 73, 22, 55, 62, 60, 5, 37, 102, 119, 1, 61, 6, 21, 51, 70, 105, 9, 101, 2, 99, 128, 85, 94, 18, 68, 3, 14, 82, 28, 29, 31, 44, 50, 81, 95, 15, 17, 26, 78, 88, 90, 8, 40, 49, 54, 69, 87, 104, 112, 126, 10, 25, 30, 41, 45, 52, 59, 66, 74, 79, 93, 96, 109, 111, 129, 11, 12, 13, 19, 23, 27, 34, 43, 47, 53, 57, 65, 71, 72, 76, 89, 97, 100, 103, 107, 113, 121] [19, 48]\n"
     ]
    }
   ],
   "source": [
    "propose, query = results[0]\n",
    "print(propose, query)"
   ]
  },
  {
   "cell_type": "code",
   "execution_count": 35,
   "metadata": {},
   "outputs": [],
   "source": [
    "ranks = []\n",
    "for propose, query in results:\n",
    "    ranks.append(propose.index(query[0])+1)\n",
    "    ranks.append(propose.index(query[1])+1)"
   ]
  },
  {
   "cell_type": "code",
   "execution_count": 30,
   "metadata": {},
   "outputs": [
    {
     "data": {
      "text/plain": [
       "40"
      ]
     },
     "execution_count": 30,
     "metadata": {},
     "output_type": "execute_result"
    }
   ],
   "source": [
    "len(ranks)"
   ]
  },
  {
   "cell_type": "code",
   "execution_count": 39,
   "metadata": {},
   "outputs": [
    {
     "data": {
      "text/plain": [
       "<matplotlib.axes._subplots.AxesSubplot at 0x12ecf948988>"
      ]
     },
     "execution_count": 39,
     "metadata": {},
     "output_type": "execute_result"
    },
    {
     "data": {
      "image/png": "[encoded data removed]",
      "text/plain": [
       "<Figure size 432x288 with 1 Axes>"
      ]
     },
     "metadata": {
      "needs_background": "light"
     },
     "output_type": "display_data"
    }
   ],
   "source": [
    "sns.distplot(ranks, bins=15, kde=False)"
   ]
  },
  {
   "cell_type": "code",
   "execution_count": null,
   "metadata": {},
   "outputs": [],
   "source": []
  }
 ],
 "metadata": {
  "kernelspec": {
   "display_name": "Python 3",
   "language": "python",
   "name": "python3"
  },
  "language_info": {
   "codemirror_mode": {
    "name": "ipython",
    "version": 3
   },
   "file_extension": ".py",
   "mimetype": "text/x-python",
   "name": "python",
   "nbconvert_exporter": "python",
   "pygments_lexer": "ipython3",
   "version": "3.7.7"
  }
 },
 "nbformat": 4,
 "nbformat_minor": 4
}
