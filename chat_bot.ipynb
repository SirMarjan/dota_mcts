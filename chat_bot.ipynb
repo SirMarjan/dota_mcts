{
 "cells": [
  {
   "cell_type": "code",
   "execution_count": 1,
   "metadata": {},
   "outputs": [],
   "source": [
    "import json\n",
    "import textdistance\n",
    "import re\n",
    "import joblib\n",
    "from models.feature_extractor import FeatureExtractor\n",
    "from models.win_rate_models import WinRateSciKitModel, WinRateSciKitModelConfidence\n",
    "from models.mcts_draft import AllPickDraft, CaptainsModeDraft, getOrderedMoves\n",
    "from mcts import mcts\n",
    "import math"
   ]
  },
  {
   "cell_type": "code",
   "execution_count": 2,
   "metadata": {},
   "outputs": [],
   "source": [
    "def simple_name(name):\n",
    "    start = name.lower().split()[0]\n",
    "    return re.sub(r'[^a-z]+', '', start)"
   ]
  },
  {
   "cell_type": "code",
   "execution_count": 3,
   "metadata": {},
   "outputs": [],
   "source": [
    "def load_hero_names(file_path):\n",
    "    with open(file_path, 'rt') as file:\n",
    "        heroes = json.load(file)\n",
    "        \n",
    "    result = {}\n",
    "    for hero in heroes.values():\n",
    "        result[hero['id']] = (hero['localized_name'], simple_name(hero['localized_name']))\n",
    "        \n",
    "    return result\n",
    "        \n",
    "    \n",
    "        "
   ]
  },
  {
   "cell_type": "code",
   "execution_count": 4,
   "metadata": {},
   "outputs": [],
   "source": [
    "heroes = load_hero_names('input/heroes.json')"
   ]
  },
  {
   "cell_type": "code",
   "execution_count": 5,
   "metadata": {},
   "outputs": [],
   "source": [
    "def get_most_confidence_hero(text, heroes):\n",
    "    best_id = -1\n",
    "    best_value = 0\n",
    "    for hero_id,(localized_name, simple_name) in heroes.items():\n",
    "        value = textdistance.levenshtein.normalized_similarity(text.lower(), simple_name)\n",
    "        # print(value, localized_name)\n",
    "        if value > best_value:\n",
    "            best_value = value\n",
    "            best_id = hero_id\n",
    "    return (best_id, heroes[best_id][0])\n",
    "        "
   ]
  },
  {
   "cell_type": "code",
   "execution_count": 6,
   "metadata": {},
   "outputs": [
    {
     "data": {
      "text/plain": [
       "(1, 'Anti-Mage')"
      ]
     },
     "execution_count": 6,
     "metadata": {},
     "output_type": "execute_result"
    }
   ],
   "source": [
    "get_most_confidence_hero('antymage',heroes)"
   ]
  },
  {
   "cell_type": "code",
   "execution_count": 7,
   "metadata": {},
   "outputs": [],
   "source": [
    "def convert_id_to_str(values, heroes):\n",
    "    return [heroes[val][0] for val in values] \n",
    "\n",
    "def print_state(bans, radiant_picks, dire_picks, heroes):\n",
    "    p_val = {}\n",
    "    p_val['bans'] = convert_id_to_str(bans, heroes)\n",
    "    p_val['radiant_picks'] = convert_id_to_str(radiant_picks, heroes) \n",
    "    p_val['dire_picks'] = convert_id_to_str(dire_picks, heroes)\n",
    "    print(p_val)"
   ]
  },
  {
   "cell_type": "code",
   "execution_count": null,
   "metadata": {},
   "outputs": [
    {
     "name": "stdin",
     "output_type": "stream",
     "text": [
      "> +b morph\n"
     ]
    },
    {
     "name": "stdout",
     "output_type": "stream",
     "text": [
      "{'bans': ['Morphling'], 'radiant_picks': [], 'dire_picks': []}\n"
     ]
    },
    {
     "name": "stdin",
     "output_type": "stream",
     "text": [
      "> +b wrait\n"
     ]
    },
    {
     "name": "stdout",
     "output_type": "stream",
     "text": [
      "{'bans': ['Morphling', 'Wraith King'], 'radiant_picks': [], 'dire_picks': []}\n"
     ]
    },
    {
     "name": "stdin",
     "output_type": "stream",
     "text": [
      "> +r crys\n"
     ]
    },
    {
     "name": "stdout",
     "output_type": "stream",
     "text": [
      "{'bans': ['Morphling', 'Wraith King'], 'radiant_picks': ['Crystal Maiden'], 'dire_picks': []}\n"
     ]
    },
    {
     "name": "stdin",
     "output_type": "stream",
     "text": [
      "> +d ogr\n"
     ]
    },
    {
     "name": "stdout",
     "output_type": "stream",
     "text": [
      "{'bans': ['Morphling', 'Wraith King'], 'radiant_picks': ['Crystal Maiden'], 'dire_picks': ['Ogre Magi']}\n"
     ]
    },
    {
     "name": "stdin",
     "output_type": "stream",
     "text": [
      "> mr\n"
     ]
    },
    {
     "name": "stdout",
     "output_type": "stream",
     "text": [
      "Start mcts radiant\n",
      "['Anti-Mage', 'Axe', 'Bane', 'Bloodseeker', 'Drow Ranger']\n",
      "{'bans': ['Morphling', 'Wraith King'], 'radiant_picks': ['Crystal Maiden'], 'dire_picks': ['Ogre Magi']}\n"
     ]
    },
    {
     "name": "stdin",
     "output_type": "stream",
     "text": [
      "> rd\n"
     ]
    },
    {
     "name": "stdout",
     "output_type": "stream",
     "text": [
      "{'bans': ['Morphling', 'Wraith King'], 'radiant_picks': ['Crystal Maiden'], 'dire_picks': ['Ogre Magi']}\n"
     ]
    },
    {
     "name": "stdin",
     "output_type": "stream",
     "text": [
      "> md\n"
     ]
    },
    {
     "name": "stdout",
     "output_type": "stream",
     "text": [
      "Start mcts dire\n",
      "['Axe', 'Bane', 'Bloodseeker', 'Drow Ranger', 'Earthshaker']\n",
      "{'bans': ['Morphling', 'Wraith King'], 'radiant_picks': ['Crystal Maiden'], 'dire_picks': ['Ogre Magi']}\n"
     ]
    },
    {
     "name": "stdin",
     "output_type": "stream",
     "text": [
      "> +r dazz\n"
     ]
    },
    {
     "name": "stdout",
     "output_type": "stream",
     "text": [
      "{'bans': ['Morphling', 'Wraith King'], 'radiant_picks': ['Dazzle', 'Crystal Maiden'], 'dire_picks': ['Ogre Magi']}\n"
     ]
    },
    {
     "name": "stdin",
     "output_type": "stream",
     "text": [
      "> md\n"
     ]
    },
    {
     "name": "stdout",
     "output_type": "stream",
     "text": [
      "Start mcts dire\n",
      "['Leshrac', 'Anti-Mage', 'Axe', 'Bane', 'Bloodseeker']\n",
      "{'bans': ['Morphling', 'Wraith King'], 'radiant_picks': ['Dazzle', 'Crystal Maiden'], 'dire_picks': ['Ogre Magi']}\n"
     ]
    }
   ],
   "source": [
    "radiant_picks = set()\n",
    "dire_picks = set()\n",
    "bans = set()\n",
    "\n",
    "feature_extractor = joblib.load('input/feature_extractor.joblib')\n",
    "linear_svc = joblib.load('input/linear_svc.joblib')\n",
    "win_rate_model = WinRateSciKitModelConfidence(feature_extractor, linear_svc)\n",
    "\n",
    "std_in = ''\n",
    "while True:\n",
    "    std_in = str(input(\">\"))\n",
    "    part = std_in.split()\n",
    "    if std_in == '':\n",
    "        continue\n",
    "    \n",
    "    commad = part[0]\n",
    "    values = part[1:]\n",
    "    \n",
    "\n",
    "    \n",
    "    if commad == 'e':\n",
    "        break\n",
    "        \n",
    "    if commad == 'mr':\n",
    "        print('Start mcts radiant')\n",
    "        state = AllPickDraft(win_rate_model, True, bans, radiant_picks, dire_picks)\n",
    "        mcts_object = mcts(timeLimit=2_000, explorationConstant=1/math.sqrt(2))\n",
    "        mcts_object.search(state)\n",
    "        top_n = getOrderedMoves(mcts_object, 5)\n",
    "        print(convert_id_to_str(top_n, heroes))\n",
    "        \n",
    "    if commad == 'md':\n",
    "        print('Start mcts dire')\n",
    "        state = AllPickDraft(win_rate_model, False, bans, radiant_picks, dire_picks)\n",
    "        mcts_object = mcts(timeLimit=2_000, explorationConstant=1/math.sqrt(2))\n",
    "        mcts_object.search(state)\n",
    "        top_n = getOrderedMoves(mcts_object, 5)\n",
    "        print(convert_id_to_str(top_n, heroes))\n",
    "        \n",
    "        \n",
    "    edit_heroes = set()\n",
    "    for value in values:\n",
    "            hero_id = get_most_confidence_hero(value,heroes)[0]\n",
    "            edit_heroes.add(hero_id)\n",
    "    \n",
    "    if commad == '+b':\n",
    "        bans |= edit_heroes\n",
    "    elif commad == '-b':\n",
    "        bans -= edit_heroes\n",
    "    elif commad == '+r':\n",
    "        radiant_picks |= edit_heroes\n",
    "    elif commad == '-r':\n",
    "        radiant_picks -= edit_heroes\n",
    "    elif commad == '+d':\n",
    "        dire_picks |= edit_heroes\n",
    "    elif commad == '-d':\n",
    "        dire_picks -= edit_heroes\n",
    "        \n",
    "    print_state(bans, radiant_picks, dire_picks, heroes)\n"
   ]
  },
  {
   "cell_type": "code",
   "execution_count": null,
   "metadata": {},
   "outputs": [],
   "source": []
  },
  {
   "cell_type": "code",
   "execution_count": null,
   "metadata": {},
   "outputs": [],
   "source": []
  },
  {
   "cell_type": "code",
   "execution_count": null,
   "metadata": {},
   "outputs": [],
   "source": []
  }
 ],
 "metadata": {
  "kernelspec": {
   "display_name": "Python 3",
   "language": "python",
   "name": "python3"
  },
  "language_info": {
   "codemirror_mode": {
    "name": "ipython",
    "version": 3
   },
   "file_extension": ".py",
   "mimetype": "text/x-python",
   "name": "python",
   "nbconvert_exporter": "python",
   "pygments_lexer": "ipython3",
   "version": "3.7.7"
  }
 },
 "nbformat": 4,
 "nbformat_minor": 4
}
