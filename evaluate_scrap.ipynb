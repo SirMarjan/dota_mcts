{
 "cells": [
  {
   "cell_type": "code",
   "execution_count": 9,
   "metadata": {},
   "outputs": [],
   "source": [
    "import requests \n",
    "from models.api_models import *\n",
    "from typing import Optional, Union\n",
    "from tqdm import tqdm\n",
    "import time\n",
    "import joblib"
   ]
  },
  {
   "cell_type": "code",
   "execution_count": 2,
   "metadata": {},
   "outputs": [],
   "source": [
    "GAMES_IDS = []\n",
    "with open('input/evaluate_games.txt', 'rt') as file:\n",
    "    GAMES_IDS = list(map(str.strip, file.readlines()))"
   ]
  },
  {
   "cell_type": "code",
   "execution_count": 3,
   "metadata": {},
   "outputs": [],
   "source": [
    "__STEAM_API_KEY = None\n",
    "with open('private/api_key.txt', 'rt') as file:\n",
    "    __STEAM_API_KEY = file.readline()\n",
    "    \n",
    "__MATCH_DETAILS_URL = 'https://api.steampowered.com/IDOTA2Match_570/GetMatchDetails/V001/'"
   ]
  },
  {
   "cell_type": "code",
   "execution_count": 4,
   "metadata": {},
   "outputs": [],
   "source": [
    "def get_match_details(match_id) -> Union[int, Game]:\n",
    "    response = requests.get(__MATCH_DETAILS_URL,\n",
    "                            params={'key': __STEAM_API_KEY, 'match_id': match_id},\n",
    "                            timeout=2)\n",
    "    match = -1\n",
    "    if response.ok:\n",
    "        match = _parse_match_details(response.json())\n",
    "        if match is None:\n",
    "            match = 0\n",
    "\n",
    "    return match\n",
    "\n",
    "\n",
    "def _parse_match_details(json_body: dict) -> Optional[Game]:\n",
    "    result = None\n",
    "    if 'error' not in json_body['result'].keys():\n",
    "        game_dict = json_body['result']\n",
    "        if game_dict['game_mode'] == 2:\n",
    "            clear_game_dict = subset_of_dict(game_dict, Game.__slots__)\n",
    "            result = Game(**clear_game_dict)\n",
    "    return result"
   ]
  },
  {
   "cell_type": "code",
   "execution_count": 5,
   "metadata": {},
   "outputs": [
    {
     "name": "stderr",
     "output_type": "stream",
     "text": [
      "100%|████████████████████████████████████████████████████████████████████████████████████████████████████████████████████████████████████████████████████| 20/20 [00:30<00:00,  1.51s/it]\n"
     ]
    }
   ],
   "source": [
    "GAMES = []\n",
    "for game_id in tqdm(GAMES_IDS):\n",
    "    GAME = get_match_details(game_id)\n",
    "    GAMES.append(GAME)\n",
    "    time.sleep(1.0)\n",
    "    "
   ]
  },
  {
   "cell_type": "code",
   "execution_count": 7,
   "metadata": {},
   "outputs": [],
   "source": [
    "PICK_BANS = [ game.picks_bans for game in GAMES]"
   ]
  },
  {
   "cell_type": "code",
   "execution_count": 12,
   "metadata": {},
   "outputs": [
    {
     "data": {
      "text/plain": [
       "['input/pro_pb.joblib']"
      ]
     },
     "execution_count": 12,
     "metadata": {},
     "output_type": "execute_result"
    }
   ],
   "source": [
    "joblib.dump(PICK_BANS, 'input/pro_pb.joblib')"
   ]
  },
  {
   "cell_type": "code",
   "execution_count": null,
   "metadata": {},
   "outputs": [],
   "source": []
  }
 ],
 "metadata": {
  "kernelspec": {
   "display_name": "Python 3",
   "language": "python",
   "name": "python3"
  },
  "language_info": {
   "codemirror_mode": {
    "name": "ipython",
    "version": 3
   },
   "file_extension": ".py",
   "mimetype": "text/x-python",
   "name": "python",
   "nbconvert_exporter": "python",
   "pygments_lexer": "ipython3",
   "version": "3.7.7"
  }
 },
 "nbformat": 4,
 "nbformat_minor": 4
}
