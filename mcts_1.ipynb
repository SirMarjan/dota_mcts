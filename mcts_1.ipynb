{
 "cells": [
  {
   "cell_type": "code",
   "execution_count": 6,
   "metadata": {},
   "outputs": [],
   "source": [
    "import joblib\n",
    "from models.feature_extractor import FeatureExtractor\n",
    "from models.win_rate_models import WinRateSciKitModel\n",
    "from models.mcts_draft import AllPickDraft, CaptainsModeDraft\n",
    "from mcts import mcts"
   ]
  },
  {
   "cell_type": "code",
   "execution_count": 7,
   "metadata": {},
   "outputs": [],
   "source": [
    "feature_extractor = joblib.load('input/feature_extractor.joblib')\n",
    "linear_svc = joblib.load('input/linear_svc.joblib')"
   ]
  },
  {
   "cell_type": "code",
   "execution_count": 8,
   "metadata": {},
   "outputs": [],
   "source": [
    "win_rate_model = WinRateSciKitModel(feature_extractor, linear_svc)"
   ]
  },
  {
   "cell_type": "code",
   "execution_count": 9,
   "metadata": {},
   "outputs": [],
   "source": [
    "x = win_rate_model.prepare_input_vector(([6,7,8,9,10],[1,2,3,4,5]))"
   ]
  },
  {
   "cell_type": "code",
   "execution_count": 12,
   "metadata": {},
   "outputs": [],
   "source": [
    "initial_state = CaptainsModeDraft(win_rate_model)"
   ]
  },
  {
   "cell_type": "code",
   "execution_count": 13,
   "metadata": {},
   "outputs": [],
   "source": [
    "def getOrderedMoves(mcts):\n",
    "    bestNodes = []\n",
    "    for action, child in mcts.root.children.items():\n",
    "        # nodeValue = child.totalReward / child.numVisits\n",
    "        # bestNodes.append((k, nodeValue, child.numVisits))\n",
    "        bestNodes.append((action, child.numVisits))\n",
    "    bestNodes.sort(key = lambda x: -x[1])\n",
    "    return bestNodes"
   ]
  },
  {
   "cell_type": "code",
   "execution_count": 16,
   "metadata": {},
   "outputs": [
    {
     "data": {
      "text/plain": [
       "97"
      ]
     },
     "execution_count": 16,
     "metadata": {},
     "output_type": "execute_result"
    }
   ],
   "source": [
    "mcts_object = mcts(timeLimit=15_000)\n",
    "mcts_object.search(initial_state)"
   ]
  },
  {
   "cell_type": "code",
   "execution_count": 17,
   "metadata": {},
   "outputs": [
    {
     "data": {
      "text/plain": [
       "13351"
      ]
     },
     "execution_count": 17,
     "metadata": {},
     "output_type": "execute_result"
    }
   ],
   "source": [
    "mcts_object.iterations"
   ]
  },
  {
   "cell_type": "code",
   "execution_count": 18,
   "metadata": {},
   "outputs": [
    {
     "data": {
      "text/plain": [
       "[(2, 113),\n",
       " (4, 113),\n",
       " (25, 113),\n",
       " (30, 113),\n",
       " (33, 113),\n",
       " (34, 113),\n",
       " (37, 113),\n",
       " (41, 113),\n",
       " (50, 113),\n",
       " (54, 113),\n",
       " (62, 113),\n",
       " (67, 113),\n",
       " (72, 113),\n",
       " (74, 113),\n",
       " (77, 113),\n",
       " (82, 113),\n",
       " (85, 113),\n",
       " (88, 113),\n",
       " (93, 113),\n",
       " (94, 113),\n",
       " (102, 113),\n",
       " (111, 113),\n",
       " (119, 113),\n",
       " (1, 112),\n",
       " (3, 112),\n",
       " (5, 112),\n",
       " (6, 112),\n",
       " (7, 112),\n",
       " (8, 112),\n",
       " (9, 112),\n",
       " (10, 112),\n",
       " (11, 112),\n",
       " (12, 112),\n",
       " (13, 112),\n",
       " (14, 112),\n",
       " (15, 112),\n",
       " (16, 112),\n",
       " (17, 112),\n",
       " (18, 112),\n",
       " (19, 112),\n",
       " (20, 112),\n",
       " (21, 112),\n",
       " (22, 112),\n",
       " (23, 112),\n",
       " (26, 112),\n",
       " (27, 112),\n",
       " (28, 112),\n",
       " (29, 112),\n",
       " (31, 112),\n",
       " (32, 112),\n",
       " (35, 112),\n",
       " (36, 112),\n",
       " (38, 112),\n",
       " (39, 112),\n",
       " (40, 112),\n",
       " (42, 112),\n",
       " (43, 112),\n",
       " (44, 112),\n",
       " (45, 112),\n",
       " (46, 112),\n",
       " (47, 112),\n",
       " (48, 112),\n",
       " (49, 112),\n",
       " (51, 112),\n",
       " (52, 112),\n",
       " (53, 112),\n",
       " (55, 112),\n",
       " (56, 112),\n",
       " (57, 112),\n",
       " (58, 112),\n",
       " (59, 112),\n",
       " (60, 112),\n",
       " (61, 112),\n",
       " (63, 112),\n",
       " (64, 112),\n",
       " (65, 112),\n",
       " (66, 112),\n",
       " (68, 112),\n",
       " (69, 112),\n",
       " (70, 112),\n",
       " (71, 112),\n",
       " (73, 112),\n",
       " (75, 112),\n",
       " (76, 112),\n",
       " (78, 112),\n",
       " (79, 112),\n",
       " (80, 112),\n",
       " (81, 112),\n",
       " (83, 112),\n",
       " (84, 112),\n",
       " (86, 112),\n",
       " (87, 112),\n",
       " (89, 112),\n",
       " (90, 112),\n",
       " (91, 112),\n",
       " (92, 112),\n",
       " (95, 112),\n",
       " (96, 112),\n",
       " (97, 112),\n",
       " (98, 112),\n",
       " (99, 112),\n",
       " (100, 112),\n",
       " (101, 112),\n",
       " (103, 112),\n",
       " (104, 112),\n",
       " (105, 112),\n",
       " (106, 112),\n",
       " (107, 112),\n",
       " (108, 112),\n",
       " (109, 112),\n",
       " (110, 112),\n",
       " (112, 112),\n",
       " (113, 112),\n",
       " (114, 112),\n",
       " (120, 112),\n",
       " (121, 112),\n",
       " (126, 112),\n",
       " (128, 112),\n",
       " (129, 112)]"
      ]
     },
     "execution_count": 18,
     "metadata": {},
     "output_type": "execute_result"
    }
   ],
   "source": [
    "getOrderedMoves(mcts_object)"
   ]
  },
  {
   "cell_type": "code",
   "execution_count": null,
   "metadata": {},
   "outputs": [],
   "source": []
  }
 ],
 "metadata": {
  "kernelspec": {
   "display_name": "Python 3",
   "language": "python",
   "name": "python3"
  },
  "language_info": {
   "codemirror_mode": {
    "name": "ipython",
    "version": 3
   },
   "file_extension": ".py",
   "mimetype": "text/x-python",
   "name": "python",
   "nbconvert_exporter": "python",
   "pygments_lexer": "ipython3",
   "version": "3.7.7"
  }
 },
 "nbformat": 4,
 "nbformat_minor": 4
}
