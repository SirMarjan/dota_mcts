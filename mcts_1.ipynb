{
 "cells": [
  {
   "cell_type": "code",
   "execution_count": 1,
   "metadata": {},
   "outputs": [],
   "source": [
    "import logging\n",
    "#logging.basicConfig(level=logging.DEBUG)\n",
    "\n",
    "import joblib\n",
    "from models.feature_extractor import FeatureExtractor\n",
    "from models.win_rate_models import WinRateSciKitModel\n",
    "from models.mcts_draft import AllPickDraft, CaptainsModeDraft\n",
    "from mcts import mcts"
   ]
  },
  {
   "cell_type": "code",
   "execution_count": 2,
   "metadata": {},
   "outputs": [],
   "source": [
    "feature_extractor = joblib.load('input/feature_extractor.joblib')\n",
    "linear_svc = joblib.load('input/linear_svc.joblib')"
   ]
  },
  {
   "cell_type": "code",
   "execution_count": 3,
   "metadata": {},
   "outputs": [],
   "source": [
    "win_rate_model = WinRateSciKitModel(feature_extractor, linear_svc)"
   ]
  },
  {
   "cell_type": "code",
   "execution_count": 4,
   "metadata": {},
   "outputs": [],
   "source": [
    "x = win_rate_model.prepare_input_vector(([6,7,8,9,10],[1,2,3,4,5]))"
   ]
  },
  {
   "cell_type": "code",
   "execution_count": 5,
   "metadata": {},
   "outputs": [],
   "source": [
    "initial_state = AllPickDraft(win_rate_model)"
   ]
  },
  {
   "cell_type": "code",
   "execution_count": 6,
   "metadata": {},
   "outputs": [
    {
     "name": "stdout",
     "output_type": "stream",
     "text": [
      "frozenset() set() set()\n",
      "False\n",
      "[1, 2, 3, 4, 5, 6, 7, 8, 9, 10, 11, 12, 13, 14, 15, 16, 17, 18, 19, 20, 21, 22, 23, 25, 26, 27, 28, 29, 30, 31, 32, 33, 34, 35, 36, 37, 38, 39, 40, 41, 42, 43, 44, 45, 46, 47, 48, 49, 50, 51, 52, 53, 54, 55, 56, 57, 58, 59, 60, 61, 62, 63, 64, 65, 66, 67, 68, 69, 70, 71, 72, 73, 74, 75, 76, 77, 78, 79, 80, 81, 82, 83, 84, 85, 86, 87, 88, 89, 90, 91, 92, 93, 94, 95, 96, 97, 98, 99, 100, 101, 102, 103, 104, 105, 106, 107, 108, 109, 110, 111, 112, 113, 114, 119, 120, 121, 126, 128, 129]\n",
      "frozenset() {2} set()\n"
     ]
    }
   ],
   "source": [
    "print(initial_state.bans, initial_state.radiant_pick, initial_state.dire_pick)\n",
    "print(initial_state.isTerminal())\n",
    "pa = initial_state.getPossibleActions()\n",
    "print(pa)\n",
    "initial_state = initial_state.takeAction(pa[1])\n",
    "print(initial_state.bans, initial_state.radiant_pick, initial_state.dire_pick)"
   ]
  },
  {
   "cell_type": "code",
   "execution_count": 7,
   "metadata": {},
   "outputs": [],
   "source": [
    "def getOrderedMoves(mcts):\n",
    "    bestNodes = []\n",
    "    for action, child in mcts.root.children.items():\n",
    "        nodeValue = child.totalReward / child.numVisits\n",
    "        # bestNodes.append((k, nodeValue, child.numVisits))\n",
    "        bestNodes.append((action, child.numVisits, nodeValue))\n",
    "    bestNodes.sort(key = lambda x: -x[1])\n",
    "    return bestNodes"
   ]
  },
  {
   "cell_type": "code",
   "execution_count": 8,
   "metadata": {},
   "outputs": [],
   "source": [
    "initial_state = AllPickDraft(win_rate_model)"
   ]
  },
  {
   "cell_type": "code",
   "execution_count": 9,
   "metadata": {},
   "outputs": [
    {
     "data": {
      "text/plain": [
       "42"
      ]
     },
     "execution_count": 9,
     "metadata": {},
     "output_type": "execute_result"
    }
   ],
   "source": [
    "mcts_object = mcts(timeLimit=20_000)\n",
    "mcts_object.search(initial_state)"
   ]
  },
  {
   "cell_type": "code",
   "execution_count": 10,
   "metadata": {},
   "outputs": [
    {
     "data": {
      "text/plain": [
       "16397"
      ]
     },
     "execution_count": 10,
     "metadata": {},
     "output_type": "execute_result"
    }
   ],
   "source": [
    "mcts_object.iterations"
   ]
  },
  {
   "cell_type": "code",
   "execution_count": 11,
   "metadata": {},
   "outputs": [
    {
     "data": {
      "text/plain": [
       "[(42, 1485, 0.8175084175084175),\n",
       " (38, 1220, 0.809016393442623),\n",
       " (84, 946, 0.7970401691331924),\n",
       " (80, 839, 0.7902264600715138),\n",
       " (67, 800, 0.7875),\n",
       " (92, 790, 0.7873417721518987),\n",
       " (108, 778, 0.7866323907455013),\n",
       " (70, 765, 0.7856209150326797),\n",
       " (32, 743, 0.7833109017496636),\n",
       " (36, 671, 0.7779433681073026),\n",
       " (77, 338, 0.727810650887574),\n",
       " (48, 282, 0.7127659574468085),\n",
       " (37, 251, 0.701195219123506),\n",
       " (51, 251, 0.701195219123506),\n",
       " (4, 206, 0.6796116504854369),\n",
       " (61, 178, 0.6629213483146067),\n",
       " (1, 174, 0.6609195402298851),\n",
       " (22, 166, 0.6566265060240963),\n",
       " (110, 161, 0.6521739130434783),\n",
       " (60, 155, 0.6516129032258065),\n",
       " (3, 134, 0.6268656716417911),\n",
       " (5, 114, 0.6052631578947368),\n",
       " (73, 114, 0.6052631578947368),\n",
       " (82, 109, 0.5963302752293578),\n",
       " (29, 102, 0.5882352941176471),\n",
       " (64, 102, 0.5882352941176471),\n",
       " (62, 100, 0.58),\n",
       " (6, 98, 0.5816326530612245),\n",
       " (49, 97, 0.5773195876288659),\n",
       " (56, 94, 0.574468085106383),\n",
       " (55, 91, 0.5714285714285714),\n",
       " (95, 90, 0.5666666666666667),\n",
       " (9, 87, 0.5632183908045977),\n",
       " (33, 83, 0.5542168674698795),\n",
       " (75, 83, 0.5542168674698795),\n",
       " (2, 80, 0.55),\n",
       " (21, 80, 0.55),\n",
       " (31, 80, 0.55),\n",
       " (83, 80, 0.55),\n",
       " (90, 79, 0.5443037974683544),\n",
       " (101, 78, 0.5384615384615384),\n",
       " (28, 76, 0.5394736842105263),\n",
       " (85, 74, 0.527027027027027),\n",
       " (93, 74, 0.527027027027027),\n",
       " (50, 72, 0.5277777777777778),\n",
       " (35, 69, 0.5217391304347826),\n",
       " (40, 69, 0.5217391304347826),\n",
       " (71, 69, 0.5217391304347826),\n",
       " (114, 67, 0.5074626865671642),\n",
       " (15, 62, 0.5),\n",
       " (44, 62, 0.5),\n",
       " (88, 62, 0.5),\n",
       " (96, 62, 0.5),\n",
       " (87, 61, 0.4918032786885246),\n",
       " (128, 61, 0.4918032786885246),\n",
       " (41, 59, 0.4915254237288136),\n",
       " (59, 56, 0.48214285714285715),\n",
       " (100, 56, 0.48214285714285715),\n",
       " (105, 56, 0.48214285714285715),\n",
       " (119, 55, 0.4727272727272727),\n",
       " (18, 54, 0.46296296296296297),\n",
       " (20, 54, 0.46296296296296297),\n",
       " (12, 52, 0.46153846153846156),\n",
       " (68, 51, 0.45098039215686275),\n",
       " (81, 51, 0.45098039215686275),\n",
       " (7, 49, 0.4489795918367347),\n",
       " (99, 49, 0.4489795918367347),\n",
       " (103, 49, 0.4489795918367347),\n",
       " (78, 46, 0.43478260869565216),\n",
       " (94, 45, 0.4222222222222222),\n",
       " (16, 43, 0.4186046511627907),\n",
       " (30, 43, 0.4186046511627907),\n",
       " (39, 43, 0.4186046511627907),\n",
       " (107, 43, 0.4186046511627907),\n",
       " (112, 43, 0.4186046511627907),\n",
       " (10, 42, 0.40476190476190477),\n",
       " (63, 42, 0.40476190476190477),\n",
       " (57, 40, 0.4),\n",
       " (14, 39, 0.38461538461538464),\n",
       " (43, 39, 0.38461538461538464),\n",
       " (126, 39, 0.38461538461538464),\n",
       " (129, 39, 0.38461538461538464),\n",
       " (17, 37, 0.3783783783783784),\n",
       " (46, 37, 0.3783783783783784),\n",
       " (45, 35, 0.37142857142857144),\n",
       " (109, 35, 0.37142857142857144),\n",
       " (8, 34, 0.35294117647058826),\n",
       " (27, 32, 0.34375),\n",
       " (74, 32, 0.34375),\n",
       " (111, 32, 0.34375),\n",
       " (19, 31, 0.3225806451612903),\n",
       " (53, 31, 0.3225806451612903),\n",
       " (104, 31, 0.3225806451612903),\n",
       " (23, 29, 0.3103448275862069),\n",
       " (65, 29, 0.3103448275862069),\n",
       " (66, 29, 0.3103448275862069),\n",
       " (97, 29, 0.3103448275862069),\n",
       " (11, 27, 0.2962962962962963),\n",
       " (25, 27, 0.2962962962962963),\n",
       " (26, 27, 0.2962962962962963),\n",
       " (89, 27, 0.2962962962962963),\n",
       " (102, 27, 0.2962962962962963),\n",
       " (113, 27, 0.2962962962962963),\n",
       " (120, 27, 0.2962962962962963),\n",
       " (121, 27, 0.2962962962962963),\n",
       " (13, 26, 0.2692307692307692),\n",
       " (34, 24, 0.25),\n",
       " (58, 24, 0.25),\n",
       " (69, 24, 0.25),\n",
       " (79, 24, 0.25),\n",
       " (86, 24, 0.25),\n",
       " (98, 24, 0.25),\n",
       " (47, 22, 0.22727272727272727),\n",
       " (72, 22, 0.22727272727272727),\n",
       " (76, 20, 0.2),\n",
       " (106, 20, 0.2),\n",
       " (52, 19, 0.15789473684210525),\n",
       " (54, 19, 0.15789473684210525),\n",
       " (91, 15, 0.06666666666666667)]"
      ]
     },
     "execution_count": 11,
     "metadata": {},
     "output_type": "execute_result"
    }
   ],
   "source": [
    "getOrderedMoves(mcts_object)"
   ]
  },
  {
   "cell_type": "code",
   "execution_count": null,
   "metadata": {},
   "outputs": [],
   "source": []
  }
 ],
 "metadata": {
  "kernelspec": {
   "display_name": "Python 3",
   "language": "python",
   "name": "python3"
  },
  "language_info": {
   "codemirror_mode": {
    "name": "ipython",
    "version": 3
   },
   "file_extension": ".py",
   "mimetype": "text/x-python",
   "name": "python",
   "nbconvert_exporter": "python",
   "pygments_lexer": "ipython3",
   "version": "3.7.7"
  }
 },
 "nbformat": 4,
 "nbformat_minor": 4
}
